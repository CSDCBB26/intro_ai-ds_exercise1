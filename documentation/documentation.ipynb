{
 "cells": [
  {
   "metadata": {},
   "cell_type": "markdown",
   "source": [
    "# Exercise 1: 8-Puzzle Problem with Heuristic Search\n",
    "\n",
    "## Introduction"
   ],
   "id": "f85e10db8ceb0b24"
  },
  {
   "metadata": {},
   "cell_type": "markdown",
   "source": [
    "## Create venv\n",
    "\n",
    "1. Create new virtual environment with the name `venv`\n",
    "    ```bash\n",
    "    python3 -m venv venv\n",
    "    ```\n",
    "2. Activate the Environment\n",
    "    ```bash\n",
    "    source venv/bin/activate\n",
    "    ```\n",
    "3. Install the requirements (if there is a requirements.txt file)\n",
    "    ```bash\n",
    "    pip install -r requirements.txt\n",
    "    ```"
   ],
   "id": "54518d6d998db0be"
  },
  {
   "metadata": {},
   "cell_type": "markdown",
   "source": [
    "## pip\n",
    "\n",
    "pip is the package installer for Python. It allows you to install and manage additional libraries and dependencies that are not included in the standard Python library. With pip, you can easily install packages from the Python Package Index (PyPI) and other package repositories.\n",
    "\n",
    "### Check the version of pip\n",
    "\n",
    "```bash\n",
    "pip --version\n",
    "```\n",
    "\n",
    "### Install a package\n",
    "\n",
    "    ```bash\n",
    "    pip install <package_name>\n",
    "    ```\n",
    "\n",
    "### Upgrade pip\n",
    "\n",
    "```bash\n",
    "pip install --upgrade pip\n",
    "```"
   ],
   "id": "b0d8b248465ff13b"
  },
  {
   "metadata": {},
   "cell_type": "markdown",
   "source": [
    "## Requirements.txt\n",
    "\n",
    "### Initial Setup\n",
    "\n",
    "```bash\n",
    "pip install -r requirements.txt\n",
    "```\n",
    "\n",
    "### Generate reuqirements.txt\n",
    "\n",
    "The command `pip freeze > requirements.txt` is used to generate a `requirements.txt` file that contains a list of all the installed Python packages in your current environment along with their versions. This file can then be used to recreate the environment elsewhere.\n",
    "\n",
    "\n"
   ],
   "id": "b3b2627a5f3382e4"
  }
 ],
 "metadata": {
  "kernelspec": {
   "display_name": "Python 3",
   "language": "python",
   "name": "python3"
  },
  "language_info": {
   "codemirror_mode": {
    "name": "ipython",
    "version": 2
   },
   "file_extension": ".py",
   "mimetype": "text/x-python",
   "name": "python",
   "nbconvert_exporter": "python",
   "pygments_lexer": "ipython2",
   "version": "2.7.6"
  }
 },
 "nbformat": 4,
 "nbformat_minor": 5
}
