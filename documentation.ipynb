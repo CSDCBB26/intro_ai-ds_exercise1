{
 "cells": [
  {
   "metadata": {},
   "cell_type": "markdown",
   "source": [
    "# Exercise 1: 8-Puzzle Problem with Heuristic Search\n",
    "\n",
    "## Introduction\n",
    "\n",
    "<insert>\n"
   ],
   "id": "f85e10db8ceb0b24"
  },
  {
   "metadata": {},
   "cell_type": "markdown",
   "source": [
    "\n",
    "## Create venv\n",
    "\n",
    "1. Create new virtual environment with the name `venv`\n",
    "    ```bash\n",
    "    python3 -m venv venv\n",
    "    ```\n",
    "2. Activate the Environment\n",
    "    ```bash\n",
    "    source venv/bin/activate\n",
    "    ```\n",
    "3. Install the requirements\n",
    "    ```bash\n",
    "    pip install -r requirements.txt\n",
    "    ```"
   ],
   "id": "54518d6d998db0be"
  },
  {
   "metadata": {},
   "cell_type": "markdown",
   "source": [
    "## Requirements.txt\n",
    "\n",
    "### Initial Setup\n",
    "\n",
    "```bash\n",
    "pip install -r requirements.txt\n",
    "```\n",
    "\n",
    "### Generate reuqirements.txt\n",
    "\n",
    "The command `pip freeze > requirements.txt` is used to generate a `requirements.txt` file that contains a list of all the installed Python packages in your current environment along with their versions. This file can then be used to recreate the environment elsewhere.  Here is how you use it:\n",
    "    1. Open your terminal or command prompt.\n",
    "    2. Activate your virtual environment if you are using one.\n",
    "    3. Run the following command:\n",
    "\n",
    "        ```bash\n",
    "        pip install -r requirements.txt\n",
    "        ```\n",
    "\n",
    "\n"
   ],
   "id": "b3b2627a5f3382e4"
  },
  {
   "metadata": {},
   "cell_type": "markdown",
   "source": "",
   "id": "2a59bbe7280b18aa"
  }
 ],
 "metadata": {
  "kernelspec": {
   "display_name": "Python 3",
   "language": "python",
   "name": "python3"
  },
  "language_info": {
   "codemirror_mode": {
    "name": "ipython",
    "version": 2
   },
   "file_extension": ".py",
   "mimetype": "text/x-python",
   "name": "python",
   "nbconvert_exporter": "python",
   "pygments_lexer": "ipython2",
   "version": "2.7.6"
  }
 },
 "nbformat": 4,
 "nbformat_minor": 5
}
