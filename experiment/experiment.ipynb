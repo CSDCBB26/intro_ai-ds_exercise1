{
 "cells": [
  {
   "metadata": {},
   "cell_type": "markdown",
   "source": [
    "# Experiment\n",
    "\n",
    "## Introduction\n",
    "\n"
   ],
   "id": "2faff1d4934c49b"
  },
  {
   "metadata": {},
   "cell_type": "code",
   "outputs": [],
   "execution_count": null,
   "source": [
    "import time\n",
    "import psutil\n",
    "import matplotlib.pyplot as plt\n",
    "from tabulate import tabulate\n",
    "from puzzle.board import Board\n",
    "from puzzle.solver import Solver\n",
    "from puzzle.heuristics import manhattan_distance, misplaced_tiles"
   ],
   "id": "9001eaf513d19f1e"
  },
  {
   "metadata": {},
   "cell_type": "markdown",
   "source": "",
   "id": "2225177225c64356"
  },
  {
   "metadata": {},
   "cell_type": "code",
   "outputs": [],
   "execution_count": null,
   "source": [
    "def measure_performance(heuristic, board):\n",
    "    start_time = time.time()\n",
    "    process = psutil.Process()\n",
    "    initial_memory = process.memory_info().rss\n",
    "\n",
    "    solver = Solver(board, heuristic)\n",
    "    solver.solve()\n",
    "\n",
    "    end_time = time.time()\n",
    "    final_memory = process.memory_info().rss\n",
    "\n",
    "    computation_time = end_time - start_time\n",
    "    memory_usage = final_memory - initial_memory\n",
    "\n",
    "    return computation_time, memory_usage"
   ],
   "id": "7e0186d1ec029ea4"
  },
  {
   "metadata": {},
   "cell_type": "code",
   "outputs": [],
   "execution_count": null,
   "source": [
    "def run_experiment():\n",
    "    results = {\n",
    "        'manhattan_distance': {'time': [], 'memory': []},\n",
    "        'misplaced_tiles': {'time': [], 'memory': []}\n",
    "    }\n",
    "\n",
    "    for _ in range(100):\n",
    "        board = Board.generate_random()\n",
    "\n",
    "        time_md, memory_md = measure_performance(manhattan_distance, board)\n",
    "        results['manhattan_distance']['time'].append(time_md)\n",
    "        results['manhattan_distance']['memory'].append(memory_md)\n",
    "\n",
    "        time_mt, memory_mt = measure_performance(misplaced_tiles, board)\n",
    "        results['misplaced_tiles']['time'].append(time_mt)\n",
    "        results['misplaced_tiles']['memory'].append(memory_mt)\n",
    "\n",
    "    return results"
   ],
   "id": "9f2eae42a38a9746"
  },
  {
   "metadata": {},
   "cell_type": "code",
   "outputs": [],
   "execution_count": null,
   "source": [
    "def summarize_results(results):\n",
    "    summary = {\n",
    "        'manhattan_distance': {\n",
    "            'avg_time': sum(results['manhattan_distance']['time']) / 100,\n",
    "            'avg_memory': sum(results['manhattan_distance']['memory']) / 100\n",
    "        },\n",
    "        'misplaced_tiles': {\n",
    "            'avg_time': sum(results['misplaced_tiles']['time']) / 100,\n",
    "            'avg_memory': sum(results['misplaced_tiles']['memory']) / 100\n",
    "        }\n",
    "    }\n",
    "    return summary"
   ],
   "id": "95a990eb15f535db"
  },
  {
   "metadata": {},
   "cell_type": "code",
   "outputs": [],
   "execution_count": null,
   "source": [
    "def display_results(summary):\n",
    "    table = [\n",
    "        [\"Heuristic\", \"Avg. Computation Time (s)\", \"Avg. Memory Usage (bytes)\"],\n",
    "        [\"Manhattan Distance\", summary['manhattan_distance']['avg_time'], summary['manhattan_distance']['avg_memory']],\n",
    "        [\"Misplaced Tiles\", summary['misplaced_tiles']['avg_time'], summary['misplaced_tiles']['avg_memory']]\n",
    "    ]\n",
    "    print(tabulate(table, headers=\"firstrow\", tablefmt=\"grid\"))"
   ],
   "id": "e7f00f9cdb4239fc"
  },
  {
   "metadata": {},
   "cell_type": "code",
   "outputs": [],
   "execution_count": null,
   "source": [
    "def visualize_results(summary):\n",
    "    heuristics = [\"Manhattan Distance\", \"Misplaced Tiles\"]\n",
    "    avg_times = [summary['manhattan_distance']['avg_time'], summary['misplaced_tiles']['avg_time']]\n",
    "    avg_memory = [summary['manhattan_distance']['avg_memory'], summary['misplaced_tiles']['avg_memory']]\n",
    "\n",
    "    fig, ax1 = plt.subplots()\n",
    "\n",
    "    color = 'tab:blue'\n",
    "    ax1.set_xlabel('Heuristic')\n",
    "    ax1.set_ylabel('Avg. Computation Time (s)', color=color)\n",
    "    ax1.bar(heuristics, avg_times, color=color, alpha=0.6)\n",
    "    ax1.tick_params(axis='y', labelcolor=color)\n",
    "\n",
    "    ax2 = ax1.twinx()\n",
    "    color = 'tab:red'\n",
    "    ax2.set_ylabel('Avg. Memory Usage (bytes)', color=color)\n",
    "    ax2.plot(heuristics, avg_memory, color=color, marker='o')\n",
    "    ax2.tick_params(axis='y', labelcolor=color)\n",
    "\n",
    "    fig.tight_layout()\n",
    "    plt.title('Heuristic Performance Comparison')\n",
    "    plt.show()"
   ],
   "id": "ebbf35eed033583c"
  },
  {
   "metadata": {},
   "cell_type": "code",
   "outputs": [],
   "execution_count": null,
   "source": [
    "results = run_experiment()\n",
    "summary = summarize_results(results)\n",
    "display_results(summary)\n",
    "visualize_results(summary)"
   ],
   "id": "a95c14e845ce0463"
  }
 ],
 "metadata": {},
 "nbformat": 5,
 "nbformat_minor": 9
}
