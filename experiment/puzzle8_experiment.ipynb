{
 "cells": [
  {
   "cell_type": "markdown",
   "id": "fccfb6f4-2323-4b8f-b16d-ff22ef77cd3b",
   "metadata": {},
   "source": [
    "# Experiment\n",
    "\n",
    "## Introduction\n",
    "\n",
    "1. Run 100 random tests for each heuristic.\n",
    "2. Measure memory usage (expanded nodes) and runtime.\n",
    "3. Provide mean and standard deviation of memory usage and execution time for each heuristic.\n",
    "\n"
   ]
  },
  {
   "cell_type": "code",
   "id": "f4bc9201-c58a-4392-a2af-e1a6c59d766b",
   "metadata": {
    "ExecuteTime": {
     "end_time": "2024-12-01T18:02:57.962802Z",
     "start_time": "2024-12-01T18:02:57.469337Z"
    }
   },
   "source": [
    "import time\n",
    "\n",
    "import matplotlib.pyplot as plt\n",
    "import pandas as pd\n",
    "from tabulate import tabulate\n",
    "\n",
    "from puzzle.board import Board\n",
    "from puzzle.heuristics import manhattan_distance, hamming_distance\n",
    "from puzzle.solver import Solver"
   ],
   "outputs": [],
   "execution_count": 1
  },
  {
   "cell_type": "markdown",
   "id": "60111806-81cc-4826-b7fb-4e2d5b2b1dd4",
   "metadata": {},
   "source": [
    "## Measure Performance\n",
    "\n",
    "Measures the performance of solving the 8-puzzle using a specified heuristic.\n",
    "\n",
    "This function calculates the computation time and memory usage required to solve the puzzle using the given heuristic. It initializes the solver with the provided board and heuristic, executes the solver and then measures the time taken and memory consumed during the process.\n"
   ]
  },
  {
   "cell_type": "code",
   "id": "61ce00cb-5fb4-4c44-8356-4e0be043916f",
   "metadata": {
    "ExecuteTime": {
     "end_time": "2024-12-01T18:02:57.967843Z",
     "start_time": "2024-12-01T18:02:57.966033Z"
    }
   },
   "source": [
    "def measure_performance(heuristic, board):\n",
    "    \"\"\"\n",
    "    Parameters:\n",
    "    heuristic (function): The heuristic function to be used (e.g., manhattan_distance, hamming_distance).\n",
    "    board (Board): The current state of the 8-puzzle board.\n",
    "\n",
    "    Returns:\n",
    "    tuple: A tuple containing the computation time (in seconds) and memory usage (number of expanded nodes).\n",
    "    \"\"\"\n",
    "    start_time = time.time()\n",
    "\n",
    "    solver = Solver(board, heuristic)\n",
    "    _, expanded_nodes = solver.solve()\n",
    "\n",
    "    end_time = time.time()\n",
    "\n",
    "    computation_time = end_time - start_time\n",
    "\n",
    "    return computation_time, expanded_nodes"
   ],
   "outputs": [],
   "execution_count": 2
  },
  {
   "cell_type": "markdown",
   "id": "19500d13-1b59-422d-8fce-9c0d55155372",
   "metadata": {},
   "source": [
    "## Run Experiment\n",
    "\n",
    "The `run_experiment` function performs the following tasks:\n",
    "\n",
    "1. Initializes a dictionary to store the results for two heuristics: `manhattan_distance` and `hamming_tiles`.\n",
    "2. Runs 100 iterations where:\n",
    "   - A random solvable 8-puzzle board is generated.\n",
    "   - The performance (computation time and memory usage) of solving the puzzle using the `manhattan_distance` heuristic is measured and recorded.\n",
    "   - The performance (computation time and memory usage) of solving the puzzle using the `hamming_distance` heuristic is measured and recorded.\n",
    "3. Returns the results as a dictionary containing the recorded times and memory usages for both heuristics."
   ]
  },
  {
   "cell_type": "code",
   "id": "075695da-3539-4802-aba1-adbd254bc6fc",
   "metadata": {
    "ExecuteTime": {
     "end_time": "2024-12-01T18:02:58.034150Z",
     "start_time": "2024-12-01T18:02:58.032026Z"
    }
   },
   "source": [
    "def run_experiment():\n",
    "    results = {\n",
    "        'manhattan_distance': {'time': [], 'memory': []},\n",
    "        'hamming_distance': {'time': [], 'memory': []}\n",
    "    }\n",
    "\n",
    "    for _ in range(100):\n",
    "        board = Board.generate_random()\n",
    "\n",
    "        time_md, memory_md = measure_performance(manhattan_distance, board)\n",
    "        results['manhattan_distance']['time'].append(time_md)\n",
    "        results['manhattan_distance']['memory'].append(memory_md)\n",
    "\n",
    "        time_hd, memory_hd = measure_performance(hamming_distance, board)\n",
    "        results['hamming_distance']['time'].append(time_hd)\n",
    "        results['hamming_distance']['memory'].append(memory_hd)\n",
    "\n",
    "    return results"
   ],
   "outputs": [],
   "execution_count": 3
  },
  {
   "cell_type": "code",
   "id": "b8355386e98ec78a",
   "metadata": {
    "ExecuteTime": {
     "end_time": "2024-12-01T18:02:58.039506Z",
     "start_time": "2024-12-01T18:02:58.037765Z"
    }
   },
   "source": [
    "def print_all_results(results):\n",
    "    \"\"\"\n",
    "    Prints all results in a tabular format.\n",
    "    :param results: dict containing the recorded times and memory usages for both heuristics.\n",
    "    :return: None\n",
    "    \"\"\"\n",
    "    data = {\n",
    "        'Iteration': list(range(1, 101)),\n",
    "        'Manhattan Time (s)': results['manhattan_distance']['time'],\n",
    "        'Manhattan Memory (bytes)': results['manhattan_distance']['memory'],\n",
    "        'Hamming Time (s)': results['hamming_distance']['time'],\n",
    "        'Hamming Memory (bytes)': results['hamming_distance']['memory']\n",
    "    }\n",
    "    df = pd.DataFrame(data)\n",
    "    print(df.to_string(index=False))"
   ],
   "outputs": [],
   "execution_count": 4
  },
  {
   "cell_type": "markdown",
   "id": "6104e0a1-1781-4e8d-82db-3dad9cf2cecd",
   "metadata": {},
   "source": [
    "## Summarize Results\n",
    "\n",
    "The `summarize_results` function calculates the average and standard deviation of computation time and memory usage for each heuristic over 100 iterations. It processes the results obtained from the run_experiment function and returns a summary dictionary."
   ]
  },
  {
   "cell_type": "code",
   "id": "d2c7543b-1322-4297-a141-e36a83fb6e38",
   "metadata": {
    "ExecuteTime": {
     "end_time": "2024-12-01T18:02:58.048097Z",
     "start_time": "2024-12-01T18:02:58.043395Z"
    }
   },
   "source": [
    "import statistics\n",
    "\n",
    "\n",
    "def summarize_results(results):\n",
    "    \"\"\"\n",
    "    :param results: dict containing the recorded times and memory usages for both heuristics.\n",
    "    :return: dict containing the average and standard deviation of computation time and memory usage for each heuristic.\n",
    "    \"\"\"\n",
    "    summary = {\n",
    "        'manhattan_distance': {\n",
    "            'avg_time': sum(results['manhattan_distance']['time']) / 100,\n",
    "            'std_time': statistics.stdev(results['manhattan_distance']['time']),\n",
    "            'avg_memory': sum(results['manhattan_distance']['memory']) / 100,\n",
    "            'std_memory': statistics.stdev(results['manhattan_distance']['memory'])\n",
    "        },\n",
    "        'hamming_distance': {\n",
    "            'avg_time': sum(results['hamming_distance']['time']) / 100,\n",
    "            'std_time': statistics.stdev(results['hamming_distance']['time']),\n",
    "            'avg_memory': sum(results['hamming_distance']['memory']) / 100,\n",
    "            'std_memory': statistics.stdev(results['hamming_distance']['memory'])\n",
    "        }\n",
    "    }\n",
    "    return summary"
   ],
   "outputs": [],
   "execution_count": 5
  },
  {
   "cell_type": "markdown",
   "id": "674001e8-a6c7-4304-81e0-92b6d16fbf87",
   "metadata": {},
   "source": [
    "## Display Results\n",
    "\n",
    "The `display_results` function prints a summary table of the average computation time and memory usage for each heuristic. It uses the `tabulate` library to format the table in a grid layout."
   ]
  },
  {
   "cell_type": "code",
   "id": "657fc492-8e2f-44da-9ae2-867550b87d87",
   "metadata": {
    "ExecuteTime": {
     "end_time": "2024-12-01T18:02:58.056777Z",
     "start_time": "2024-12-01T18:02:58.054507Z"
    }
   },
   "source": [
    "def display_results(summary):\n",
    "    \"\"\"\n",
    "    :param summary: dict containing the average and standard deviation of computation time and memory usage for each heuristic.\n",
    "    :return: None\n",
    "    \"\"\"\n",
    "    # Convert time to milliseconds and memory to kilobytes\n",
    "    summary['manhattan_distance']['avg_time'] *= 1000  # seconds to milliseconds\n",
    "    summary['hamming_distance']['avg_time'] *= 1000  # seconds to milliseconds\n",
    "    summary['manhattan_distance']['std_time'] *= 1000  # seconds to milliseconds\n",
    "    summary['hamming_distance']['std_time'] *= 1000  # seconds to milliseconds\n",
    "    summary['manhattan_distance']['avg_memory'] /= 1024  # bytes to kilobytes\n",
    "    summary['hamming_distance']['avg_memory'] /= 1024  # bytes to kilobytes\n",
    "    summary['manhattan_distance']['std_memory'] /= 1024  # bytes to kilobytes\n",
    "    summary['hamming_distance']['std_memory'] /= 1024  # bytes to kilobytes\n",
    "\n",
    "    table = [\n",
    "        [\"Heuristic\", \"Avg. Computation Time (ms)\", \"Std. Computation Time (ms)\", \"Avg. Memory Usage (KB)\", \"Std. Memory Usage (KB)\"],\n",
    "        [\"Hamming Distance\", summary['hamming_distance']['avg_time'], summary['hamming_distance']['std_time'],\n",
    "         summary['hamming_distance']['avg_memory'],\n",
    "         summary['hamming_distance']['std_memory']],\n",
    "        [\"Manhattan Distance\", summary['manhattan_distance']['avg_time'], summary['manhattan_distance']['std_time'],\n",
    "         summary['manhattan_distance']['avg_memory'],\n",
    "         summary['manhattan_distance']['std_memory']]\n",
    "    ]\n",
    "    print(tabulate(table, headers=\"firstrow\", tablefmt=\"grid\"))"
   ],
   "outputs": [],
   "execution_count": 6
  },
  {
   "cell_type": "markdown",
   "id": "b8ce7a01-b43c-4f34-8974-20a7726d3c92",
   "metadata": {},
   "source": [
    "## Visualize Results\n",
    "\n",
    "The `visualize_results` function creates a visual comparison of the average computation time and memory usage for each heuristic. It uses the matplotlib library to generate a bar chart and a line plot on the same figure."
   ]
  },
  {
   "cell_type": "code",
   "id": "36eb82da-67ee-4755-8a76-5ae5846b2962",
   "metadata": {
    "ExecuteTime": {
     "end_time": "2024-12-01T18:02:58.063217Z",
     "start_time": "2024-12-01T18:02:58.060595Z"
    }
   },
   "source": [
    "def visualize_results(summary):\n",
    "    \"\"\"\n",
    "    Visualizes the average and standard deviation of computation time and memory usage for each heuristic.\n",
    "\n",
    "    This function creates two side-by-side bar charts: one for the average and standard deviation of computation time and one for the average memory usage of solving the 8-puzzle problem using different heuristics.\n",
    "\n",
    "    :param summary: dict\n",
    "        A dictionary containing the average and standard deviation of computation time and memory usage for each heuristic.\n",
    "        The dictionary should have the following structure:\n",
    "        {\n",
    "            'manhattan_distance': {\n",
    "                'avg_time': float,  # Average computation time in milliseconds\n",
    "                'std_time': float,  # Standard deviation of computation time in milliseconds\n",
    "                'avg_memory': float  # Average memory usage in nodes\n",
    "            },\n",
    "            'hamming_distance': {\n",
    "                'avg_time': float,  # Average computation time in milliseconds\n",
    "                'std_time': float,  # Standard deviation of computation time in milliseconds\n",
    "                'avg_memory': float  # Average memory usage in nodes\n",
    "            }\n",
    "        }\n",
    "    :return: None\n",
    "    \"\"\"\n",
    "    heuristics = [\"Manhattan Distance\", \"Hamming Distance\"]\n",
    "    avg_times = [summary['manhattan_distance']['avg_time'], summary['hamming_distance']['avg_time']]\n",
    "    std_times = [summary['manhattan_distance']['std_time'], summary['hamming_distance']['std_time']]\n",
    "    avg_memory = [summary['manhattan_distance']['avg_memory'], summary['hamming_distance']['avg_memory']]\n",
    "    std_memory = [summary['manhattan_distance']['std_memory'], summary['hamming_distance']['std_memory']]\n",
    "\n",
    "    fig, (ax1, ax2) = plt.subplots(1, 2, figsize=(12, 6))\n",
    "\n",
    "    # Plot for average and standard deviation of computation time\n",
    "    ax1.set_title('Average and Std. Dev. Computation Time')\n",
    "    ax1.set_xlabel('Heuristic')\n",
    "    ax1.set_ylabel('Time (ms)')\n",
    "    ax1.bar(heuristics, avg_times, yerr=std_times, color='tab:blue', alpha=0.6, capsize=5)\n",
    "\n",
    "    # Plot for average memory usage\n",
    "    ax2.set_title('Average and Std. Dev. Memory Usage')\n",
    "    ax2.set_xlabel('Heuristic')\n",
    "    ax2.set_ylabel('Memory Usage (KB)')\n",
    "    ax2.bar(heuristics, avg_memory, yerr=std_memory, color='tab:red', alpha=0.6, capsize=5)\n",
    "\n",
    "    fig.tight_layout()\n",
    "    plt.show()"
   ],
   "outputs": [],
   "execution_count": 7
  },
  {
   "cell_type": "code",
   "id": "24bfac0f-c4d7-42bb-af65-2fd297772cc5",
   "metadata": {
    "ExecuteTime": {
     "end_time": "2024-12-01T18:03:19.187791Z",
     "start_time": "2024-12-01T18:02:58.066998Z"
    }
   },
   "source": [
    "results = run_experiment()"
   ],
   "outputs": [],
   "execution_count": 8
  },
  {
   "cell_type": "code",
   "id": "cdf2471a515bd738",
   "metadata": {
    "ExecuteTime": {
     "end_time": "2024-12-01T18:03:19.196449Z",
     "start_time": "2024-12-01T18:03:19.194860Z"
    }
   },
   "source": [
    "summary = summarize_results(results)"
   ],
   "outputs": [],
   "execution_count": 9
  },
  {
   "cell_type": "code",
   "id": "c4de8ea0-9fe4-45f3-a929-e74ddb1fa05c",
   "metadata": {
    "ExecuteTime": {
     "end_time": "2024-12-01T18:03:19.209620Z",
     "start_time": "2024-12-01T18:03:19.201444Z"
    }
   },
   "source": [
    "print_all_results(results)"
   ],
   "outputs": [
    {
     "name": "stdout",
     "output_type": "stream",
     "text": [
      " Iteration  Manhattan Time (s)  Manhattan Memory (bytes)  Hamming Time (s)  Hamming Memory (bytes)\n",
      "         1            0.007330                       808          0.428956                   30972\n",
      "         2            0.001954                       259          0.017482                    2353\n",
      "         3            0.017982                      2351          0.156349                   14517\n",
      "         4            0.033366                      1606          0.237240                   19558\n",
      "         5            0.005545                       707          0.087020                    8203\n",
      "         6            0.005003                       659          0.070021                    5359\n",
      "         7            0.006148                       763          0.469969                   33549\n",
      "         8            0.006454                       795          0.139419                   11399\n",
      "         9            0.012363                      1591          0.148269                   13082\n",
      "        10            0.009871                      1314          0.383060                   30759\n",
      "        11            0.006324                       853          0.228785                   18021\n",
      "        12            0.022804                      2784          1.315176                   83809\n",
      "        13            0.004778                       613          0.046044                    5602\n",
      "        14            0.001906                       253          0.007767                    1039\n",
      "        15            0.006255                       806          0.073716                    6091\n",
      "        16            0.008945                      1204          0.620225                   42647\n",
      "        17            0.000525                        64          0.001099                     149\n",
      "        18            0.004419                       541          0.076181                    9297\n",
      "        19            0.002700                       373          0.038939                    2395\n",
      "        20            0.000633                        87          0.019393                    2543\n",
      "        21            0.017323                      2230          0.261788                   21612\n",
      "        22            0.010962                      1430          0.380689                   26343\n",
      "        23            0.032374                      4163          0.634557                   44932\n",
      "        24            0.000385                        50          0.001192                     154\n",
      "        25            0.002051                       266          0.023667                    3003\n",
      "        26            0.021452                      2821          0.224050                   20786\n",
      "        27            0.000626                        77          0.008857                    1180\n",
      "        28            0.001141                       161          0.007757                    1042\n",
      "        29            0.002659                       372          0.059861                    5250\n",
      "        30            0.001529                       209          0.016383                    2221\n",
      "        31            0.001444                       205          0.040659                    2613\n",
      "        32            0.000738                        86          0.004033                     531\n",
      "        33            0.002312                       321          0.025380                    2993\n",
      "        34            0.005667                       767          0.137725                   10960\n",
      "        35            0.002601                       352          0.136605                   11206\n",
      "        36            0.004887                       630          0.039377                    5009\n",
      "        37            0.128698                      8925          1.040366                   74926\n",
      "        38            0.000188                        21          0.001253                     162\n",
      "        39            0.001272                       169          0.005692                     757\n",
      "        40            0.020413                      2470          0.549329                   42391\n",
      "        41            0.000319                        33          0.001194                     157\n",
      "        42            0.021345                       270          0.009324                    1172\n",
      "        43            0.027488                      3473          0.442572                   34795\n",
      "        44            0.001587                       213          0.063628                    5196\n",
      "        45            0.006538                       870          0.149148                   12211\n",
      "        46            0.004566                       606          0.018901                    2512\n",
      "        47            0.008580                      1131          0.159376                   13940\n",
      "        48            0.002660                       352          0.017714                    2386\n",
      "        49            0.004397                       610          0.142529                   12443\n",
      "        50            0.000157                        21          0.000793                     112\n",
      "        51            0.005989                       788          0.141946                   11446\n",
      "        52            0.010271                      1315          0.109401                   10514\n",
      "        53            0.002201                       296          0.070019                    6252\n",
      "        54            0.001630                       226          0.065595                    5438\n",
      "        55            0.076865                      6015          1.119737                   76170\n",
      "        56            0.001141                       143          0.019890                    2557\n",
      "        57            0.004771                       637          0.065875                    5721\n",
      "        58            0.002032                       259          0.007738                    1049\n",
      "        59            0.005986                       821          0.133402                   11463\n",
      "        60            0.021038                      2756          0.567766                   43378\n",
      "        61            0.003988                       509          0.017248                    2289\n",
      "        62            0.003699                       486          0.041357                    2037\n",
      "        63            0.008887                      1078          0.184621                   13504\n",
      "        64            0.002339                       299          0.018339                    2345\n",
      "        65            0.002832                       372          0.010451                    1332\n",
      "        66            0.004440                       560          0.105538                    8900\n",
      "        67            0.006451                       773          0.322084                   25077\n",
      "        68            0.000381                        46          0.001368                     175\n",
      "        69            0.033968                      1571          0.567810                   37023\n",
      "        70            0.028215                       944          0.181971                   11376\n",
      "        71            0.000585                        54          0.004180                     497\n",
      "        72            0.002421                       255          0.055541                    2671\n",
      "        73            0.000732                        92          0.004521                     535\n",
      "        74            0.005168                       633          0.079400                    6098\n",
      "        75            0.008726                      1076          0.180804                   12361\n",
      "        76            0.050545                      5959          0.852440                   58261\n",
      "        77            0.006402                       804          0.226178                   18554\n",
      "        78            0.001187                       155          0.005612                     772\n",
      "        79            0.007372                       967          0.072374                    6476\n",
      "        80            0.002561                       344          0.194599                   18055\n",
      "        81            0.032309                      1665          0.199353                   15041\n",
      "        82            0.012818                      1524          0.221486                   18603\n",
      "        83            0.005925                       752          0.052236                    3796\n",
      "        84            0.000184                        26          0.001282                     183\n",
      "        85            0.012304                      1495          0.164784                   12361\n",
      "        86            0.009104                      1162          0.119171                   11491\n",
      "        87            0.025634                       817          0.363407                   31061\n",
      "        88            0.065467                      5839          0.923712                   60446\n",
      "        89            0.003313                       399          0.029640                    3571\n",
      "        90            0.012408                      1635          0.717504                   49942\n",
      "        91            0.004595                       592          0.078757                    6159\n",
      "        92            0.008356                      1051          0.175481                   13856\n",
      "        93            0.023270                      2918          0.653623                   44457\n",
      "        94            0.000323                        36          0.001147                     152\n",
      "        95            0.004483                       567          0.022148                    2714\n",
      "        96            0.026944                      3306          0.660685                   47330\n",
      "        97            0.004823                       616          0.064277                    8114\n",
      "        98            0.041568                      2577          0.444811                   34329\n",
      "        99            0.002523                       335          0.121965                   12148\n",
      "       100            0.018392                      2359          0.373135                   28083\n"
     ]
    }
   ],
   "execution_count": 10
  },
  {
   "cell_type": "code",
   "id": "7512177baff08202",
   "metadata": {
    "editable": true,
    "slideshow": {
     "slide_type": ""
    },
    "tags": [],
    "ExecuteTime": {
     "end_time": "2024-12-01T18:03:19.225802Z",
     "start_time": "2024-12-01T18:03:19.223436Z"
    }
   },
   "source": [
    "display_results(summary)"
   ],
   "outputs": [
    {
     "name": "stdout",
     "output_type": "stream",
     "text": [
      "+--------------------+------------------------------+------------------------------+--------------------------+--------------------------+\n",
      "| Heuristic          |   Avg. Computation Time (ms) |   Std. Computation Time (ms) |   Avg. Memory Usage (KB) |   Std. Memory Usage (KB) |\n",
      "+====================+==============================+==============================+==========================+==========================+\n",
      "| Hamming Distance   |                     199.859  |                      268.566 |                 14.751   |                  17.8724 |\n",
      "+--------------------+------------------------------+------------------------------+--------------------------+--------------------------+\n",
      "| Manhattan Distance |                      11.2923 |                       17.911 |                  1.09022 |                   1.4223 |\n",
      "+--------------------+------------------------------+------------------------------+--------------------------+--------------------------+\n"
     ]
    }
   ],
   "execution_count": 11
  },
  {
   "cell_type": "code",
   "id": "6bf9e9d36543ed4c",
   "metadata": {
    "ExecuteTime": {
     "end_time": "2024-12-01T18:03:19.398119Z",
     "start_time": "2024-12-01T18:03:19.247583Z"
    }
   },
   "source": [
    "visualize_results(summary)"
   ],
   "outputs": [
    {
     "data": {
      "text/plain": [
       "<Figure size 1200x600 with 2 Axes>"
      ],
      "image/png": "[encoded data removed]"
     },
     "metadata": {},
     "output_type": "display_data"
    }
   ],
   "execution_count": 12
  }
 ],
 "metadata": {
  "kernelspec": {
   "display_name": "Python 3 (ipykernel)",
   "language": "python",
   "name": "python3"
  },
  "language_info": {
   "codemirror_mode": {
    "name": "ipython",
    "version": 3
   },
   "file_extension": ".py",
   "mimetype": "text/x-python",
   "name": "python",
   "nbconvert_exporter": "python",
   "pygments_lexer": "ipython3",
   "version": "3.12.0"
  }
 },
 "nbformat": 4,
 "nbformat_minor": 5
}
