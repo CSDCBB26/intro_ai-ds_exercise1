{
 "cells": [
  {
   "cell_type": "markdown",
   "id": "fccfb6f4-2323-4b8f-b16d-ff22ef77cd3b",
   "metadata": {},
   "source": [
    "# Experiment\n",
    "\n",
    "## Introduction\n",
    "\n",
    "1. Run 100 random tests for each heuristic.\n",
    "2. Measure memory usage (expanded nodes) and runtime.\n",
    "3. Provide mean and standard deviation of memory usage and execution time for each heuristic.\n",
    "\n"
   ]
  },
  {
   "cell_type": "code",
   "id": "f4bc9201-c58a-4392-a2af-e1a6c59d766b",
   "metadata": {
    "ExecuteTime": {
     "end_time": "2024-11-30T23:46:27.369302Z",
     "start_time": "2024-11-30T23:46:27.366405Z"
    }
   },
   "source": [
    "import time\n",
    "\n",
    "import matplotlib.pyplot as plt\n",
    "import pandas as pd\n",
    "from tabulate import tabulate\n",
    "\n",
    "from puzzle.board import Board\n",
    "from puzzle.heuristics import manhattan_distance, hamming_distance\n",
    "from puzzle.solver import Solver"
   ],
   "outputs": [],
   "execution_count": 14
  },
  {
   "cell_type": "markdown",
   "id": "60111806-81cc-4826-b7fb-4e2d5b2b1dd4",
   "metadata": {},
   "source": [
    "## Measure Performance\n",
    "\n",
    "Measures the performance of solving the 8-puzzle using a specified heuristic.\n",
    "\n",
    "This function calculates the computation time and memory usage required to solve the puzzle using the given heuristic. It initializes the solver with the provided board and heuristic, executes the solver and then measures the time taken and memory consumed during the process.\n"
   ]
  },
  {
   "cell_type": "code",
   "id": "61ce00cb-5fb4-4c44-8356-4e0be043916f",
   "metadata": {
    "ExecuteTime": {
     "end_time": "2024-11-30T23:46:27.378453Z",
     "start_time": "2024-11-30T23:46:27.376063Z"
    }
   },
   "source": [
    "def measure_performance(heuristic, board):\n",
    "    \"\"\"\n",
    "    Parameters:\n",
    "    heuristic (function): The heuristic function to be used (e.g., manhattan_distance, hamming_distance).\n",
    "    board (Board): The current state of the 8-puzzle board.\n",
    "\n",
    "    Returns:\n",
    "    tuple: A tuple containing the computation time (in seconds) and memory usage (number of expanded nodes).\n",
    "    \"\"\"\n",
    "    start_time = time.time()\n",
    "\n",
    "    solver = Solver(board, heuristic)\n",
    "    _, expanded_nodes = solver.solve()\n",
    "\n",
    "    end_time = time.time()\n",
    "\n",
    "    computation_time = end_time - start_time\n",
    "\n",
    "    return computation_time, expanded_nodes"
   ],
   "outputs": [],
   "execution_count": 15
  },
  {
   "cell_type": "markdown",
   "id": "19500d13-1b59-422d-8fce-9c0d55155372",
   "metadata": {},
   "source": [
    "## Run Experiment\n",
    "\n",
    "The `run_experiment` function performs the following tasks:\n",
    "\n",
    "1. Initializes a dictionary to store the results for two heuristics: `manhattan_distance` and `hamming_tiles`.\n",
    "2. Runs 100 iterations where:\n",
    "   - A random solvable 8-puzzle board is generated.\n",
    "   - The performance (computation time and memory usage) of solving the puzzle using the `manhattan_distance` heuristic is measured and recorded.\n",
    "   - The performance (computation time and memory usage) of solving the puzzle using the `hamming_distance` heuristic is measured and recorded.\n",
    "3. Returns the results as a dictionary containing the recorded times and memory usages for both heuristics."
   ]
  },
  {
   "cell_type": "code",
   "id": "075695da-3539-4802-aba1-adbd254bc6fc",
   "metadata": {
    "ExecuteTime": {
     "end_time": "2024-11-30T23:46:27.386711Z",
     "start_time": "2024-11-30T23:46:27.384103Z"
    }
   },
   "source": [
    "def run_experiment():\n",
    "    results = {\n",
    "        'manhattan_distance': {'time': [], 'memory': []},\n",
    "        'hamming_distance': {'time': [], 'memory': []}\n",
    "    }\n",
    "\n",
    "    for _ in range(100):\n",
    "        board = Board.generate_random()\n",
    "\n",
    "        time_md, memory_md = measure_performance(manhattan_distance, board)\n",
    "        results['manhattan_distance']['time'].append(time_md)\n",
    "        results['manhattan_distance']['memory'].append(memory_md)\n",
    "\n",
    "        time_hd, memory_hd = measure_performance(hamming_distance, board)\n",
    "        results['hamming_distance']['time'].append(time_hd)\n",
    "        results['hamming_distance']['memory'].append(memory_hd)\n",
    "\n",
    "    return results"
   ],
   "outputs": [],
   "execution_count": 16
  },
  {
   "cell_type": "code",
   "id": "b8355386e98ec78a",
   "metadata": {
    "ExecuteTime": {
     "end_time": "2024-11-30T23:46:27.395361Z",
     "start_time": "2024-11-30T23:46:27.393553Z"
    }
   },
   "source": [
    "def print_all_results(results):\n",
    "    \"\"\"\n",
    "    Prints all results in a tabular format.\n",
    "    :param results: dict containing the recorded times and memory usages for both heuristics.\n",
    "    :return: None\n",
    "    \"\"\"\n",
    "    data = {\n",
    "        'Iteration': list(range(1, 101)),\n",
    "        'Manhattan Time (s)': results['manhattan_distance']['time'],\n",
    "        'Manhattan Memory (bytes)': results['manhattan_distance']['memory'],\n",
    "        'Hamming Time (s)': results['hamming_distance']['time'],\n",
    "        'Hamming Memory (bytes)': results['hamming_distance']['memory']\n",
    "    }\n",
    "    df = pd.DataFrame(data)\n",
    "    print(df.to_string(index=False))"
   ],
   "outputs": [],
   "execution_count": 17
  },
  {
   "cell_type": "markdown",
   "id": "6104e0a1-1781-4e8d-82db-3dad9cf2cecd",
   "metadata": {},
   "source": [
    "## Summarize Results\n",
    "\n",
    "The `summarize_results` function calculates the average and standard deviation of computation time and memory usage for each heuristic over 100 iterations. It processes the results obtained from the run_experiment function and returns a summary dictionary."
   ]
  },
  {
   "cell_type": "code",
   "id": "d2c7543b-1322-4297-a141-e36a83fb6e38",
   "metadata": {
    "ExecuteTime": {
     "end_time": "2024-11-30T23:46:27.399365Z",
     "start_time": "2024-11-30T23:46:27.397245Z"
    }
   },
   "source": [
    "import statistics\n",
    "\n",
    "\n",
    "def summarize_results(results):\n",
    "    \"\"\"\n",
    "    :param results: dict containing the recorded times and memory usages for both heuristics.\n",
    "    :return: dict containing the average and standard deviation of computation time and memory usage for each heuristic.\n",
    "    \"\"\"\n",
    "    summary = {\n",
    "        'manhattan_distance': {\n",
    "            'avg_time': sum(results['manhattan_distance']['time']) / 100,\n",
    "            'std_time': statistics.stdev(results['manhattan_distance']['time']),\n",
    "            'avg_memory': sum(results['manhattan_distance']['memory']) / 100,\n",
    "            'std_memory': statistics.stdev(results['manhattan_distance']['memory'])\n",
    "        },\n",
    "        'hamming_distance': {\n",
    "            'avg_time': sum(results['hamming_distance']['time']) / 100,\n",
    "            'std_time': statistics.stdev(results['hamming_distance']['time']),\n",
    "            'avg_memory': sum(results['hamming_distance']['memory']) / 100,\n",
    "            'std_memory': statistics.stdev(results['hamming_distance']['memory'])\n",
    "        }\n",
    "    }\n",
    "    return summary"
   ],
   "outputs": [],
   "execution_count": 18
  },
  {
   "cell_type": "markdown",
   "id": "674001e8-a6c7-4304-81e0-92b6d16fbf87",
   "metadata": {},
   "source": [
    "## Display Results\n",
    "\n",
    "The `display_results` function prints a summary table of the average computation time and memory usage for each heuristic. It uses the `tabulate` library to format the table in a grid layout."
   ]
  },
  {
   "cell_type": "code",
   "id": "657fc492-8e2f-44da-9ae2-867550b87d87",
   "metadata": {
    "ExecuteTime": {
     "end_time": "2024-11-30T23:46:27.405481Z",
     "start_time": "2024-11-30T23:46:27.403258Z"
    }
   },
   "source": [
    "def display_results(summary):\n",
    "    \"\"\"\n",
    "    :param summary: dict containing the average and standard deviation of computation time and memory usage for each heuristic.\n",
    "    :return: None\n",
    "    \"\"\"\n",
    "    # Convert time to milliseconds and memory to kilobytes\n",
    "    summary['manhattan_distance']['avg_time'] *= 1000  # seconds to milliseconds\n",
    "    summary['hamming_distance']['avg_time'] *= 1000  # seconds to milliseconds\n",
    "    summary['manhattan_distance']['std_time'] *= 1000  # seconds to milliseconds\n",
    "    summary['hamming_distance']['std_time'] *= 1000  # seconds to milliseconds\n",
    "    summary['manhattan_distance']['avg_memory'] /= 1024  # bytes to kilobytes\n",
    "    summary['hamming_distance']['avg_memory'] /= 1024  # bytes to kilobytes\n",
    "    summary['manhattan_distance']['std_memory'] /= 1024  # bytes to kilobytes\n",
    "    summary['hamming_distance']['std_memory'] /= 1024  # bytes to kilobytes\n",
    "\n",
    "    table = [\n",
    "        [\"Heuristic\", \"Avg. Computation Time (ms)\", \"Std. Computation Time (ms)\", \"Avg. Memory Usage (KB)\", \"Std. Memory Usage (KB)\"],\n",
    "        [\"Hamming Distance\", summary['hamming_distance']['avg_time'], summary['hamming_distance']['std_time'],\n",
    "         summary['hamming_distance']['avg_memory'],\n",
    "         summary['hamming_distance']['std_memory']],\n",
    "        [\"Manhattan Distance\", summary['manhattan_distance']['avg_time'], summary['manhattan_distance']['std_time'],\n",
    "         summary['manhattan_distance']['avg_memory'],\n",
    "         summary['manhattan_distance']['std_memory']]\n",
    "    ]\n",
    "    print(tabulate(table, headers=\"firstrow\", tablefmt=\"grid\"))"
   ],
   "outputs": [],
   "execution_count": 19
  },
  {
   "cell_type": "markdown",
   "id": "b8ce7a01-b43c-4f34-8974-20a7726d3c92",
   "metadata": {},
   "source": [
    "## Visualize Results\n",
    "\n",
    "The `visualize_results` function creates a visual comparison of the average computation time and memory usage for each heuristic. It uses the matplotlib library to generate a bar chart and a line plot on the same figure."
   ]
  },
  {
   "cell_type": "code",
   "id": "36eb82da-67ee-4755-8a76-5ae5846b2962",
   "metadata": {
    "ExecuteTime": {
     "end_time": "2024-11-30T23:46:27.411234Z",
     "start_time": "2024-11-30T23:46:27.408958Z"
    }
   },
   "source": [
    "def visualize_results(summary):\n",
    "    \"\"\"\n",
    "    Visualizes the average and standard deviation of computation time and memory usage for each heuristic.\n",
    "\n",
    "    This function creates two side-by-side bar charts: one for the average and standard deviation of computation time and one for the average memory usage of solving the 8-puzzle problem using different heuristics.\n",
    "\n",
    "    :param summary: dict\n",
    "        A dictionary containing the average and standard deviation of computation time and memory usage for each heuristic.\n",
    "        The dictionary should have the following structure:\n",
    "        {\n",
    "            'manhattan_distance': {\n",
    "                'avg_time': float,  # Average computation time in milliseconds\n",
    "                'std_time': float,  # Standard deviation of computation time in milliseconds\n",
    "                'avg_memory': float  # Average memory usage in nodes\n",
    "            },\n",
    "            'hamming_distance': {\n",
    "                'avg_time': float,  # Average computation time in milliseconds\n",
    "                'std_time': float,  # Standard deviation of computation time in milliseconds\n",
    "                'avg_memory': float  # Average memory usage in nodes\n",
    "            }\n",
    "        }\n",
    "    :return: None\n",
    "    \"\"\"\n",
    "    heuristics = [\"Manhattan Distance\", \"Hamming Distance\"]\n",
    "    avg_times = [summary['manhattan_distance']['avg_time'], summary['hamming_distance']['avg_time']]\n",
    "    std_times = [summary['manhattan_distance']['std_time'], summary['hamming_distance']['std_time']]\n",
    "    avg_memory = [summary['manhattan_distance']['avg_memory'], summary['hamming_distance']['avg_memory']]\n",
    "    std_memory = [summary['manhattan_distance']['std_memory'], summary['hamming_distance']['std_memory']]\n",
    "\n",
    "    fig, (ax1, ax2) = plt.subplots(1, 2, figsize=(12, 6))\n",
    "\n",
    "    # Plot for average and standard deviation of computation time\n",
    "    ax1.set_title('Average and Std. Dev. Computation Time')\n",
    "    ax1.set_xlabel('Heuristic')\n",
    "    ax1.set_ylabel('Time (ms)')\n",
    "    ax1.bar(heuristics, avg_times, yerr=std_times, color='tab:blue', alpha=0.6, capsize=5)\n",
    "\n",
    "    # Plot for average memory usage\n",
    "    ax2.set_title('Average and Std. Dev. Memory Usage')\n",
    "    ax2.set_xlabel('Heuristic')\n",
    "    ax2.set_ylabel('Memory Usage (KB)')\n",
    "    ax2.bar(heuristics, avg_memory, yerr=std_memory, color='tab:red', alpha=0.6, capsize=5)\n",
    "\n",
    "    fig.tight_layout()\n",
    "    plt.show()"
   ],
   "outputs": [],
   "execution_count": 20
  },
  {
   "cell_type": "code",
   "id": "24bfac0f-c4d7-42bb-af65-2fd297772cc5",
   "metadata": {
    "ExecuteTime": {
     "end_time": "2024-11-30T23:46:49.759726Z",
     "start_time": "2024-11-30T23:46:27.414677Z"
    }
   },
   "source": [
    "results = run_experiment()"
   ],
   "outputs": [],
   "execution_count": 21
  },
  {
   "cell_type": "code",
   "id": "cdf2471a515bd738",
   "metadata": {
    "ExecuteTime": {
     "end_time": "2024-11-30T23:46:49.766082Z",
     "start_time": "2024-11-30T23:46:49.764411Z"
    }
   },
   "source": [
    "summary = summarize_results(results)"
   ],
   "outputs": [],
   "execution_count": 22
  },
  {
   "cell_type": "code",
   "id": "c4de8ea0-9fe4-45f3-a929-e74ddb1fa05c",
   "metadata": {
    "ExecuteTime": {
     "end_time": "2024-11-30T23:46:49.773341Z",
     "start_time": "2024-11-30T23:46:49.769979Z"
    }
   },
   "source": [
    "print_all_results(results)"
   ],
   "outputs": [
    {
     "name": "stdout",
     "output_type": "stream",
     "text": [
      " Iteration  Manhattan Time (s)  Manhattan Memory (bytes)  Hamming Time (s)  Hamming Memory (bytes)\n",
      "         1            0.010660                      1332          0.102598                    8775\n",
      "         2            0.009468                      1250          0.159111                   12841\n",
      "         3            0.001177                       134          0.004504                     582\n",
      "         4            0.034795                      1566          0.540347                   42148\n",
      "         5            0.005304                       661          0.097852                    9450\n",
      "         6            0.045164                      3023          0.634069                   43243\n",
      "         7            0.014350                      1806          0.142766                   13682\n",
      "         8            0.000369                        49          0.017528                    2345\n",
      "         9            0.001047                       148          0.015592                    2005\n",
      "        10            0.001439                       193          0.006049                     782\n",
      "        11            0.001029                       130          0.030546                    1302\n",
      "        12            0.008874                      1097          0.173817                   13654\n",
      "        13            0.002832                       370          0.019826                    2608\n",
      "        14            0.000926                       128          0.009883                    1232\n",
      "        15            0.021613                      2641          0.290241                   22726\n",
      "        16            0.001467                       192          0.004483                     598\n",
      "        17            0.002433                       329          0.045973                    3322\n",
      "        18            0.001814                       237          0.011118                    1474\n",
      "        19            0.014416                      1857          0.138525                   11544\n",
      "        20            0.000207                        25          0.000591                      80\n",
      "        21            0.003316                       438          0.023301                    3089\n",
      "        22            0.004195                       565          0.059376                    5248\n",
      "        23            0.004093                       553          0.019631                    2590\n",
      "        24            0.026666                      1110          0.096033                    8945\n",
      "        25            0.002823                       364          0.068994                    6143\n",
      "        26            0.001422                       191          0.022603                    2874\n",
      "        27            0.007162                       863          0.829366                   51820\n",
      "        28            0.005752                       742          0.298267                   24918\n",
      "        29            0.009275                      1195          0.226007                   19419\n",
      "        30            0.025696                       776          0.094053                    8884\n",
      "        31            0.004346                       568          0.279031                   22071\n",
      "        32            0.006309                       770          0.126403                   12018\n",
      "        33            0.028817                      1328          0.232792                   19480\n",
      "        34            0.004563                       599          0.144942                   11457\n",
      "        35            0.000621                        78          0.002952                     389\n",
      "        36            0.007347                       945          0.110615                   11022\n",
      "        37            0.006307                       842          0.143626                   11413\n",
      "        38            0.010162                      1295          0.276205                   19533\n",
      "        39            0.001785                       238          0.014553                    1806\n",
      "        40            0.002543                       341          0.110456                   10544\n",
      "        41            0.049824                      3602          1.093648                   76997\n",
      "        42            0.048924                      3593          1.320227                   81166\n",
      "        43            0.040707                      5190          0.758240                   58836\n",
      "        44            0.005731                       732          0.099235                    9908\n",
      "        45            0.024201                       973          0.041805                    5381\n",
      "        46            0.001495                       192          0.036426                    2117\n",
      "        47            0.004684                       622          0.023820                    3098\n",
      "        48            0.001309                       151          0.066255                    5360\n",
      "        49            0.002685                       354          0.029263                    3599\n",
      "        50            0.000258                        34          0.001123                     160\n",
      "        51            0.032144                      1692          0.120162                   11898\n",
      "        52            0.002470                       318          0.062981                    5446\n",
      "        53            0.004880                       622          0.059392                    5221\n",
      "        54            0.007777                      1016          0.084170                    8413\n",
      "        55            0.009339                      1236          0.173528                   15642\n",
      "        56            0.023731                       674          0.054562                    6579\n",
      "        57            0.020276                       373          0.022912                    2871\n",
      "        58            0.001739                       234          0.018594                    2313\n",
      "        59            0.008983                      1142          0.142115                   11775\n",
      "        60            0.017140                      2201          0.573401                   43534\n",
      "        61            0.002950                       388          0.019313                    2560\n",
      "        62            0.004736                       636          0.075212                    6448\n",
      "        63            0.014783                      1911          0.140237                   12304\n",
      "        64            0.081610                      7509          0.980666                   74895\n",
      "        65            0.005073                       654          0.062314                    5305\n",
      "        66            0.020219                      2659          0.581676                   45666\n",
      "        67            0.000152                        17          0.000708                      75\n",
      "        68            0.000469                        58          0.001910                     245\n",
      "        69            0.002444                       313          0.162760                   13522\n",
      "        70            0.013423                      1748          0.259431                   22426\n",
      "        71            0.000526                        68          0.004638                     640\n",
      "        72            0.002858                       383          0.063148                    5154\n",
      "        73            0.027384                      3566          0.615206                   46460\n",
      "        74            0.002007                       253          0.006022                     786\n",
      "        75            0.006337                       842          0.417143                   32609\n",
      "        76            0.001481                       187          0.006167                     783\n",
      "        77            0.006192                       742          0.754031                   56963\n",
      "        78            0.006091                       736          0.109135                   10896\n",
      "        79            0.025348                       744          0.034828                    4401\n",
      "        80            0.004773                       623          0.155735                   13171\n",
      "        81            0.001992                       273          0.019052                    2560\n",
      "        82            0.029524                      1551          0.212429                   18887\n",
      "        83            0.018007                      2333          0.241630                   19391\n",
      "        84            0.013108                      1705          0.291941                   25565\n",
      "        85            0.001596                       215          0.039742                    2154\n",
      "        86            0.001426                       189          0.015882                    2110\n",
      "        87            0.001663                       229          0.007203                     975\n",
      "        88            0.005674                       757          0.240380                   19866\n",
      "        89            0.005179                       684          0.042434                    5467\n",
      "        90            0.000769                        99          0.005106                     666\n",
      "        91            0.003620                       504          0.111267                    9182\n",
      "        92            0.020390                      2629          0.400603                   32279\n",
      "        93            0.002001                       268          0.009473                    1266\n",
      "        94            0.081413                      7452          1.791912                  106620\n",
      "        95            0.000971                       112          0.016526                    2045\n",
      "        96            0.008949                      1093          0.106795                   12787\n",
      "        97            0.005498                       714          0.037246                    4986\n",
      "        98            0.120456                      8773          1.995555                  131159\n",
      "        99            0.000804                        99          0.004145                     558\n",
      "       100            0.016328                      2075          0.675428                   49421\n"
     ]
    }
   ],
   "execution_count": 23
  },
  {
   "cell_type": "code",
   "id": "7512177baff08202",
   "metadata": {
    "ExecuteTime": {
     "end_time": "2024-11-30T23:46:49.845773Z",
     "start_time": "2024-11-30T23:46:49.843488Z"
    }
   },
   "source": [
    "display_results(summary)"
   ],
   "outputs": [
    {
     "name": "stdout",
     "output_type": "stream",
     "text": [
      "+--------------------+------------------------------+------------------------------+--------------------------+--------------------------+\n",
      "| Heuristic          |   Avg. Computation Time (ms) |   Std. Computation Time (ms) |   Avg. Memory Usage (KB) |   Std. Memory Usage (KB) |\n",
      "+====================+==============================+==============================+==========================+==========================+\n",
      "| Hamming Distance   |                      211.215 |                     351.038  |                 15.7385  |                 22.6435  |\n",
      "+--------------------+------------------------------+------------------------------+--------------------------+--------------------------+\n",
      "| Manhattan Distance |                       12.191 |                      18.6761 |                  1.09093 |                  1.48938 |\n",
      "+--------------------+------------------------------+------------------------------+--------------------------+--------------------------+\n"
     ]
    }
   ],
   "execution_count": 24
  },
  {
   "cell_type": "code",
   "id": "6bf9e9d36543ed4c",
   "metadata": {
    "ExecuteTime": {
     "end_time": "2024-11-30T23:46:49.957272Z",
     "start_time": "2024-11-30T23:46:49.856378Z"
    }
   },
   "source": [
    "visualize_results(summary)"
   ],
   "outputs": [
    {
     "data": {
      "text/plain": [
       "<Figure size 1200x600 with 2 Axes>"
      ],
      "image/png": "[encoded data removed]"
     },
     "metadata": {},
     "output_type": "display_data"
    }
   ],
   "execution_count": 25
  }
 ],
 "metadata": {
  "kernelspec": {
   "display_name": "Python 3 (ipykernel)",
   "language": "python",
   "name": "python3"
  },
  "language_info": {
   "codemirror_mode": {
    "name": "ipython",
    "version": 3
   },
   "file_extension": ".py",
   "mimetype": "text/x-python",
   "name": "python",
   "nbconvert_exporter": "python",
   "pygments_lexer": "ipython3",
   "version": "3.12.0"
  }
 },
 "nbformat": 4,
 "nbformat_minor": 5
}
