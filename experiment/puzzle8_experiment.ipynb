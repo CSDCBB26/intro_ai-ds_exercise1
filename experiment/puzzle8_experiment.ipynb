{
 "cells": [
  {
   "cell_type": "markdown",
   "id": "fccfb6f4-2323-4b8f-b16d-ff22ef77cd3b",
   "metadata": {},
   "source": [
    "# Experiment\n",
    "\n",
    "## Introduction\n",
    "\n",
    "1. Generate a random solvable state and define the goal state.\n",
    "2. Implement A\\* search with the two heuristics.\n",
    "3. Run 100 random tests for each heuristic.\n",
    "4. Measure memory usage (expanded nodes) and runtime.\n",
    "5. Compute mean and standard deviation.\n",
    "\n",
    "\n"
   ]
  },
  {
   "cell_type": "code",
   "execution_count": 1,
   "id": "f4bc9201-c58a-4392-a2af-e1a6c59d766b",
   "metadata": {
    "ExecuteTime": {
     "end_time": "2024-11-30T23:02:53.362383Z",
     "start_time": "2024-11-30T23:02:53.357374Z"
    }
   },
   "outputs": [],
   "source": [
    "import time\n",
    "import psutil\n",
    "import pandas as pd\n",
    "import matplotlib.pyplot as plt\n",
    "from tabulate import tabulate\n",
    "from puzzle.board import Board\n",
    "from puzzle.solver import Solver\n",
    "from puzzle.heuristics import manhattan_distance, hamming_distance"
   ]
  },
  {
   "cell_type": "markdown",
   "id": "60111806-81cc-4826-b7fb-4e2d5b2b1dd4",
   "metadata": {},
   "source": [
    "## Measure Performance\n",
    "\n",
    "Measures the performance of solving the 8-puzzle using a specified heuristic.\n",
    "\n",
    "This function calculates the computation time and memory usage required to solve the puzzle using the given heuristic. It initializes the solver with the provided board and heuristic, executes the solver and then measures the time taken and memory consumed during the process.\n"
   ]
  },
  {
   "cell_type": "code",
   "execution_count": 2,
   "id": "61ce00cb-5fb4-4c44-8356-4e0be043916f",
   "metadata": {
    "ExecuteTime": {
     "end_time": "2024-11-30T23:02:53.382333Z",
     "start_time": "2024-11-30T23:02:53.380128Z"
    }
   },
   "outputs": [],
   "source": [
    "def measure_performance(heuristic, board):\n",
    "    \"\"\"\n",
    "    Parameters:\n",
    "    heuristic (function): The heuristic function to be used (e.g., manhattan_distance, hamming_distance).\n",
    "    board (Board): The current state of the 8-puzzle board.\n",
    "\n",
    "    Returns:\n",
    "    tuple: A tuple containing the computation time (in seconds) and memory usage (number of expanded nodes).\n",
    "    \"\"\"\n",
    "    start_time = time.time()\n",
    "\n",
    "    solver = Solver(board, heuristic)\n",
    "    _, expanded_nodes = solver.solve()\n",
    "\n",
    "    end_time = time.time()\n",
    "\n",
    "    computation_time = end_time - start_time\n",
    "\n",
    "    return computation_time, expanded_nodes"
   ]
  },
  {
   "cell_type": "markdown",
   "id": "19500d13-1b59-422d-8fce-9c0d55155372",
   "metadata": {},
   "source": [
    "## Run Experiment\n",
    "\n",
    "The `run_experiment` function performs the following tasks:\n",
    "\n",
    "1. Initializes a dictionary to store the results for two heuristics: `manhattan_distance` and `hamming_tiles`.\n",
    "2. Runs 100 iterations where:\n",
    "   - A random solvable 8-puzzle board is generated.\n",
    "   - The performance (computation time and memory usage) of solving the puzzle using the `manhattan_distance` heuristic is measured and recorded.\n",
    "   - The performance (computation time and memory usage) of solving the puzzle using the `hamming_distance` heuristic is measured and recorded.\n",
    "3. Returns the results as a dictionary containing the recorded times and memory usages for both heuristics."
   ]
  },
  {
   "cell_type": "code",
   "execution_count": 3,
   "id": "075695da-3539-4802-aba1-adbd254bc6fc",
   "metadata": {
    "ExecuteTime": {
     "end_time": "2024-11-30T23:02:53.392068Z",
     "start_time": "2024-11-30T23:02:53.389782Z"
    }
   },
   "outputs": [],
   "source": [
    "def run_experiment():\n",
    "    results = {\n",
    "        'manhattan_distance': {'time': [], 'memory': []},\n",
    "        'hamming_distance': {'time': [], 'memory': []}\n",
    "    }\n",
    "\n",
    "    for _ in range(100):\n",
    "        board = Board.generate_random()\n",
    "\n",
    "        time_md, memory_md = measure_performance(manhattan_distance, board)\n",
    "        results['manhattan_distance']['time'].append(time_md)\n",
    "        results['manhattan_distance']['memory'].append(memory_md)\n",
    "\n",
    "        time_hd, memory_hd = measure_performance(hamming_distance, board)\n",
    "        results['hamming_distance']['time'].append(time_hd)\n",
    "        results['hamming_distance']['memory'].append(memory_hd)\n",
    "\n",
    "    return results"
   ]
  },
  {
   "cell_type": "code",
   "execution_count": 4,
   "id": "b8355386e98ec78a",
   "metadata": {
    "ExecuteTime": {
     "end_time": "2024-11-30T23:02:53.396296Z",
     "start_time": "2024-11-30T23:02:53.394349Z"
    }
   },
   "outputs": [],
   "source": [
    "def print_all_results(results):\n",
    "    \"\"\"\n",
    "    Prints all results in a tabular format.\n",
    "    :param results: dict containing the recorded times and memory usages for both heuristics.\n",
    "    :return: None\n",
    "    \"\"\"\n",
    "    data = {\n",
    "        'Iteration': list(range(1, 101)),\n",
    "        'Manhattan Time (s)': results['manhattan_distance']['time'],\n",
    "        'Manhattan Memory (bytes)': results['manhattan_distance']['memory'],\n",
    "        'Hamming Time (s)': results['hamming_distance']['time'],\n",
    "        'Hamming Memory (bytes)': results['hamming_distance']['memory']\n",
    "    }\n",
    "    df = pd.DataFrame(data)\n",
    "    print(df.to_string(index=False))"
   ]
  },
  {
   "cell_type": "markdown",
   "id": "6104e0a1-1781-4e8d-82db-3dad9cf2cecd",
   "metadata": {},
   "source": [
    "## Summarize Results\n",
    "\n",
    "The `summarize_results` function calculates the average computation time and memory usage for each heuristic over 100 iterations. It processes the results obtained from the `run_experiment` function and returns a summary dictionary."
   ]
  },
  {
   "cell_type": "code",
   "execution_count": 5,
   "id": "d2c7543b-1322-4297-a141-e36a83fb6e38",
   "metadata": {
    "ExecuteTime": {
     "end_time": "2024-11-30T23:02:53.402678Z",
     "start_time": "2024-11-30T23:02:53.400647Z"
    }
   },
   "outputs": [],
   "source": [
    "def summarize_results(results):\n",
    "    \"\"\"\n",
    "    :param results: dict containing the recorded times and memory usages for both heuristics.\n",
    "    :return: dict containing the average computation time and memory usage for each heuristic.\n",
    "    \"\"\"\n",
    "    summary = {\n",
    "        'manhattan_distance': {\n",
    "            'avg_time': sum(results['manhattan_distance']['time']) / 100,\n",
    "            'avg_memory': sum(results['manhattan_distance']['memory']) / 100\n",
    "        },\n",
    "        'hamming_distance': {\n",
    "            'avg_time': sum(results['hamming_distance']['time']) / 100,\n",
    "            'avg_memory': sum(results['hamming_distance']['memory']) / 100\n",
    "        }\n",
    "    }\n",
    "    return summary"
   ]
  },
  {
   "cell_type": "markdown",
   "id": "674001e8-a6c7-4304-81e0-92b6d16fbf87",
   "metadata": {},
   "source": [
    "## Display Results\n",
    "\n",
    "The `display_results` function prints a summary table of the average computation time and memory usage for each heuristic. It uses the `tabulate` library to format the table in a grid layout."
   ]
  },
  {
   "cell_type": "code",
   "execution_count": 6,
   "id": "657fc492-8e2f-44da-9ae2-867550b87d87",
   "metadata": {
    "ExecuteTime": {
     "end_time": "2024-11-30T23:02:53.408619Z",
     "start_time": "2024-11-30T23:02:53.406614Z"
    }
   },
   "outputs": [],
   "source": [
    "def display_results(summary):\n",
    "    \"\"\"\n",
    "    :param summary: dict containing the average computation time and memory usage for each heuristic.\n",
    "    :return: None\n",
    "    \"\"\"\n",
    "    # Convert time to milliseconds and memory to kilobytes\n",
    "    summary['manhattan_distance']['avg_time'] *= 1000  # seconds to milliseconds\n",
    "    summary['hamming_distance']['avg_time'] *= 1000  # seconds to milliseconds\n",
    "    summary['manhattan_distance']['avg_memory'] /= 1024  # bytes to kilobytes\n",
    "    summary['hamming_distance']['avg_memory'] /= 1024  # bytes to kilobytes\n",
    "\n",
    "    table = [\n",
    "        [\"Heuristic\", \"Avg. Computation Time (ms)\", \"Avg. Memory Usage (KB)\"],\n",
    "        [\"Manhattan Distance\", summary['manhattan_distance']['avg_time'], summary['manhattan_distance']['avg_memory']],\n",
    "        [\"Hamming Distance\", summary['hamming_distance']['avg_time'], summary['hamming_distance']['avg_memory']]\n",
    "    ]\n",
    "    print(tabulate(table, headers=\"firstrow\", tablefmt=\"grid\"))"
   ]
  },
  {
   "cell_type": "markdown",
   "id": "b8ce7a01-b43c-4f34-8974-20a7726d3c92",
   "metadata": {},
   "source": [
    "## Visualize Results\n",
    "\n",
    "The `visualize_results` function creates a visual comparison of the average computation time and memory usage for each heuristic. It uses the matplotlib library to generate a bar chart and a line plot on the same figure."
   ]
  },
  {
   "cell_type": "code",
   "execution_count": 7,
   "id": "36eb82da-67ee-4755-8a76-5ae5846b2962",
   "metadata": {
    "ExecuteTime": {
     "end_time": "2024-11-30T23:02:53.419703Z",
     "start_time": "2024-11-30T23:02:53.417305Z"
    }
   },
   "outputs": [],
   "source": [
    "def visualize_results(summary):\n",
    "    \"\"\"\n",
    "    Visualizes the average computation time and memory usage for each heuristic.\n",
    "\n",
    "    This function creates two side-by-side bar charts: one for the average computation time and one for the average memory usage of solving the 8-puzzle problem using different heuristics.\n",
    "\n",
    "    :param summary: dict\n",
    "        A dictionary containing the average computation time and memory usage for each heuristic.\n",
    "        The dictionary should have the following structure:\n",
    "        {\n",
    "            'manhattan_distance': {\n",
    "                'avg_time': float,  # Average computation time in milliseconds\n",
    "                'avg_memory': float  # Average memory usage in nodes\n",
    "            },\n",
    "            'hamming_distance': {\n",
    "                'avg_time': float,  # Average computation time in milliseconds\n",
    "                'avg_memory': float  # Average memory usage in nodes\n",
    "            }\n",
    "        }\n",
    "    :return: None\n",
    "    \"\"\"\n",
    "    heuristics = [\"Manhattan Distance\", \"Hamming Distance\"]\n",
    "    avg_times = [summary['manhattan_distance']['avg_time'], summary['hamming_distance']['avg_time']]\n",
    "    avg_memory = [summary['manhattan_distance']['avg_memory'], summary['hamming_distance']['avg_memory']]\n",
    "\n",
    "    fig, (ax1, ax2) = plt.subplots(1, 2, figsize=(12, 6))\n",
    "\n",
    "    # Plot for average computation time\n",
    "    ax1.set_title('Average Computation Time')\n",
    "    ax1.set_xlabel('Heuristic')\n",
    "    ax1.set_ylabel('Avg. Computation Time (ms)')\n",
    "    ax1.bar(heuristics, avg_times, color='tab:blue', alpha=0.6)\n",
    "\n",
    "    # Plot for average memory usage\n",
    "    ax2.set_title('Average Memory Usage')\n",
    "    ax2.set_xlabel('Heuristic')\n",
    "    ax2.set_ylabel('Avg. Memory Usage (nodes)')\n",
    "    ax2.bar(heuristics, avg_memory, color='tab:red', alpha=0.6)\n",
    "\n",
    "    fig.tight_layout()\n",
    "    plt.show()"
   ]
  },
  {
   "cell_type": "code",
   "execution_count": 8,
   "id": "24bfac0f-c4d7-42bb-af65-2fd297772cc5",
   "metadata": {
    "ExecuteTime": {
     "end_time": "2024-11-30T23:03:26.152676Z",
     "start_time": "2024-11-30T23:02:53.422293Z"
    }
   },
   "outputs": [],
   "source": [
    "results = run_experiment()"
   ]
  },
  {
   "cell_type": "code",
   "execution_count": 9,
   "id": "cdf2471a515bd738",
   "metadata": {},
   "outputs": [],
   "source": [
    "summary = summarize_results(results)"
   ]
  },
  {
   "cell_type": "code",
   "execution_count": 10,
   "id": "c4de8ea0-9fe4-45f3-a929-e74ddb1fa05c",
   "metadata": {
    "ExecuteTime": {
     "end_time": "2024-11-30T23:03:26.161129Z",
     "start_time": "2024-11-30T23:03:26.157253Z"
    }
   },
   "outputs": [
    {
     "name": "stdout",
     "output_type": "stream",
     "text": [
      " Iteration  Manhattan Time (s)  Manhattan Memory (bytes)  Hamming Time (s)  Hamming Memory (bytes)\n",
      "         1            0.000506                        55          0.003019                     360\n",
      "         2            0.047602                      3105          0.643223                   46044\n",
      "         3            0.009998                      1278          0.254869                   23766\n",
      "         4            0.074591                      6413          0.956569                   71302\n",
      "         5            0.050631                      6206          0.598401                   43858\n",
      "         6            0.013757                      1760          0.564905                   42247\n",
      "         7            0.024672                      3184          0.413858                   32553\n",
      "         8            0.004482                       585          0.041621                    5522\n",
      "         9            0.005205                       706          0.114990                   11854\n",
      "        10            0.005946                       794          0.056919                    5511\n",
      "        11            0.060489                      5570          0.598726                   47732\n",
      "        12            0.012993                      1680          0.405491                   30952\n",
      "        13            0.035801                      4660          1.023658                   70272\n",
      "        14            0.002075                       281          0.091380                    9116\n",
      "        15            0.005860                       758          0.391964                   31774\n",
      "        16            0.001765                       223          0.007624                    1012\n",
      "        17            0.000921                       127          0.008381                    1129\n",
      "        18            0.001218                       169          0.008675                    1179\n",
      "        19            0.006184                       831          0.249134                   20276\n",
      "        20            0.023591                      2982          0.775492                   56701\n",
      "        21            0.001254                       159          0.022917                    3012\n",
      "        22            0.023490                      3036          0.412687                   35653\n",
      "        23            0.031145                       768          0.340271                   27489\n",
      "        24            0.006087                       786          0.273206                   20174\n",
      "        25            0.000668                        91          0.020111                    2605\n",
      "        26            0.021087                      2463          0.312844                   24854\n",
      "        27            0.006686                       844          0.071451                    6233\n",
      "        28            0.003375                       449          0.082616                    7837\n",
      "        29            0.051797                      4294          0.915530                   63765\n",
      "        30            0.005979                       768          0.097698                   11649\n",
      "        31            0.007699                      1010          0.380810                   27438\n",
      "        32            0.001629                       205          0.008915                    1187\n",
      "        33            0.004907                       652          0.073713                    6023\n",
      "        34            0.011319                      1451          0.130986                   12310\n",
      "        35            0.043369                      2700          0.457375                   35222\n",
      "        36            0.001479                       192          0.009628                    1247\n",
      "        37            0.001550                       210          0.011586                    1538\n",
      "        38            0.004922                       653          0.193480                   18322\n",
      "        39            0.023602                       779          0.115017                   11031\n",
      "        40            0.005511                       738          0.036835                    2406\n",
      "        41            0.001856                       259          0.021007                    2828\n",
      "        42            0.004873                       622          0.055690                    5051\n",
      "        43            0.007574                      1000          0.083645                    8603\n",
      "        44            0.008723                      1165          0.347304                   27572\n",
      "        45            0.002522                       331          0.022284                    2871\n",
      "        46            0.000372                        53          0.001263                     181\n",
      "        47            0.013777                      1832          0.159525                   13731\n",
      "        48            0.023456                      3075          0.887767                   69339\n",
      "        49            0.003022                       393          0.116172                    9810\n",
      "        50            0.002582                       357          0.375090                   29977\n",
      "        51            0.002186                       290          0.017579                    2324\n",
      "        52            0.002793                       388          0.045213                    6026\n",
      "        53            0.003239                       451          0.059644                    5417\n",
      "        54            0.005410                       697          0.058034                    5162\n",
      "        55            0.020680                      2540          0.290627                   26616\n",
      "        56            0.001381                       171          0.034446                    2215\n",
      "        57            0.005563                       716          0.066597                    6171\n",
      "        58            0.014783                      1918          0.247017                   20417\n",
      "        59            0.024360                      3044          0.337998                   29949\n",
      "        60            0.001048                       133          0.027064                     967\n",
      "        61            0.016057                      2024          0.158944                   14347\n",
      "        62            0.012338                      1622          0.148048                   12292\n",
      "        63            0.005217                       688          0.205409                   18833\n",
      "        64            0.007897                      1043          0.070091                    6580\n",
      "        65            0.002585                       341          0.040898                    2714\n",
      "        66            0.044700                      5474          0.763300                   58013\n",
      "        67            0.089758                      8467          0.959803                   74339\n",
      "        68            0.004324                       559          0.061001                    5275\n",
      "        69            0.007076                       937          0.069438                    6671\n",
      "        70            0.010202                      1302          0.114500                   12222\n",
      "        71            0.020859                       761          0.295510                   25006\n",
      "        72            0.000214                        26          0.001262                     171\n",
      "        73            0.037536                      4614          0.770568                   57489\n",
      "        74            0.010876                      1381          0.211017                   19480\n",
      "        75            0.036040                      4379          0.810396                   58310\n",
      "        76            0.002698                       368          0.041472                    5419\n",
      "        77            0.010006                      1267          0.158684                   11542\n",
      "        78            0.015190                      1792          0.690427                   46017\n",
      "        79            0.009471                      1143          0.142799                   13254\n",
      "        80            0.003065                       398          0.071243                    6015\n",
      "        81            0.050311                      3475          1.027327                   69814\n",
      "        82            0.000937                       116          0.012115                    1586\n",
      "        83            0.000390                        57          0.005550                     755\n",
      "        84            0.010229                      1297          0.149832                   14194\n",
      "        85            0.021618                       314          0.019290                    2424\n",
      "        86            0.034955                      4346          0.620962                   44474\n",
      "        87            0.016839                      1993          0.262654                   19548\n",
      "        88            0.017808                      2181          0.342910                   26622\n",
      "        89            0.051926                      4059          0.945478                   61840\n",
      "        90            0.000845                        99          0.020674                    2579\n",
      "        91            0.048004                      5657          0.623261                   45853\n",
      "        92            0.106784                      8993          1.712878                  113603\n",
      "        93            0.001226                       153          0.010632                    1307\n",
      "        94            0.003065                       388          0.047248                    6026\n",
      "        95            0.004632                       614          0.017675                    2342\n",
      "        96            0.010341                      1380          0.263534                   21167\n",
      "        97            0.005611                       731          0.068690                    6466\n",
      "        98            0.006712                       848          0.585079                   44649\n",
      "        99            0.000943                       122          0.023160                    2985\n",
      "       100            0.005803                       731          0.064621                    5464\n"
     ]
    }
   ],
   "source": [
    "print_all_results(results)"
   ]
  },
  {
   "cell_type": "code",
   "execution_count": 11,
   "id": "7512177baff08202",
   "metadata": {
    "ExecuteTime": {
     "end_time": "2024-11-30T23:03:26.167169Z",
     "start_time": "2024-11-30T23:03:26.165581Z"
    }
   },
   "outputs": [
    {
     "name": "stdout",
     "output_type": "stream",
     "text": [
      "+--------------------+------------------------------+--------------------------+\n",
      "| Heuristic          |   Avg. Computation Time (ms) |   Avg. Memory Usage (KB) |\n",
      "+====================+==============================+==========================+\n",
      "| Manhattan Distance |                      15.4113 |                  1.55459 |\n",
      "+--------------------+------------------------------+--------------------------+\n",
      "| Hamming Distance   |                     270.389  |                 20.4694  |\n",
      "+--------------------+------------------------------+--------------------------+\n"
     ]
    }
   ],
   "source": [
    "display_results(summary)"
   ]
  },
  {
   "cell_type": "code",
   "execution_count": 12,
   "id": "6bf9e9d36543ed4c",
   "metadata": {
    "ExecuteTime": {
     "end_time": "2024-11-30T23:03:26.285229Z",
     "start_time": "2024-11-30T23:03:26.184779Z"
    }
   },
   "outputs": [
    {
     "data": {
      "image/png": "[encoded data removed]",
      "text/plain": [
       "<Figure size 1200x600 with 2 Axes>"
      ]
     },
     "metadata": {},
     "output_type": "display_data"
    }
   ],
   "source": [
    "visualize_results(summary)"
   ]
  }
 ],
 "metadata": {
  "kernelspec": {
   "display_name": "Python 3 (ipykernel)",
   "language": "python",
   "name": "python3"
  },
  "language_info": {
   "codemirror_mode": {
    "name": "ipython",
    "version": 3
   },
   "file_extension": ".py",
   "mimetype": "text/x-python",
   "name": "python",
   "nbconvert_exporter": "python",
   "pygments_lexer": "ipython3",
   "version": "3.12.0"
  }
 },
 "nbformat": 4,
 "nbformat_minor": 5
}
