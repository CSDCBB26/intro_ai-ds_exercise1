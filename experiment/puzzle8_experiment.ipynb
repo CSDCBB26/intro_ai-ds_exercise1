{
 "cells": [
  {
   "cell_type": "markdown",
   "id": "fccfb6f4-2323-4b8f-b16d-ff22ef77cd3b",
   "metadata": {},
   "source": [
    "# Experiment\n",
    "\n",
    "## Introduction\n",
    "\n",
    "1. Generate a random solvable state and define the goal state.\n",
    "2. Implement A\\* search with the two heuristics.\n",
    "3. Run 100 random tests for each heuristic.\n",
    "4. Measure memory usage (expanded nodes) and runtime.\n",
    "5. Compute mean and standard deviation.\n",
    "\n",
    "\n"
   ]
  },
  {
   "cell_type": "code",
   "id": "f4bc9201-c58a-4392-a2af-e1a6c59d766b",
   "metadata": {
    "ExecuteTime": {
     "end_time": "2024-11-30T23:02:53.362383Z",
     "start_time": "2024-11-30T23:02:53.357374Z"
    }
   },
   "source": [
    "import time\n",
    "import psutil\n",
    "import pandas as pd\n",
    "import matplotlib.pyplot as plt\n",
    "from tabulate import tabulate\n",
    "from puzzle.board import Board\n",
    "from puzzle.solver import Solver\n",
    "from puzzle.heuristics import manhattan_distance, hamming_distance"
   ],
   "outputs": [],
   "execution_count": 43
  },
  {
   "cell_type": "markdown",
   "id": "60111806-81cc-4826-b7fb-4e2d5b2b1dd4",
   "metadata": {},
   "source": [
    "## Measure Performance\n",
    "\n",
    "Measures the performance of solving the 8-puzzle using a specified heuristic.\n",
    "\n",
    "This function calculates the computation time and memory usage required to solve the puzzle using the given heuristic. It initializes the solver with the provided board and heuristic, executes the solver and then measures the time taken and memory consumed during the process.\n"
   ]
  },
  {
   "cell_type": "code",
   "id": "61ce00cb-5fb4-4c44-8356-4e0be043916f",
   "metadata": {
    "ExecuteTime": {
     "end_time": "2024-11-30T23:02:53.382333Z",
     "start_time": "2024-11-30T23:02:53.380128Z"
    }
   },
   "source": [
    "def measure_performance(heuristic, board):\n",
    "    \"\"\"\n",
    "    Parameters:\n",
    "    heuristic (function): The heuristic function to be used (e.g., manhattan_distance, hamming_distance).\n",
    "    board (Board): The current state of the 8-puzzle board.\n",
    "\n",
    "    Returns:\n",
    "    tuple: A tuple containing the computation time (in seconds) and memory usage (number of expanded nodes).\n",
    "    \"\"\"\n",
    "    start_time = time.time()\n",
    "\n",
    "    solver = Solver(board, heuristic)\n",
    "    _, expanded_nodes = solver.solve()\n",
    "\n",
    "    end_time = time.time()\n",
    "\n",
    "    computation_time = end_time - start_time\n",
    "\n",
    "    return computation_time, expanded_nodes"
   ],
   "outputs": [],
   "execution_count": 44
  },
  {
   "cell_type": "markdown",
   "id": "19500d13-1b59-422d-8fce-9c0d55155372",
   "metadata": {},
   "source": [
    "## Run Experiment\n",
    "\n",
    "The `run_experiment` function performs the following tasks:\n",
    "\n",
    "1. Initializes a dictionary to store the results for two heuristics: `manhattan_distance` and `hamming_tiles`.\n",
    "2. Runs 100 iterations where:\n",
    "   - A random solvable 8-puzzle board is generated.\n",
    "   - The performance (computation time and memory usage) of solving the puzzle using the `manhattan_distance` heuristic is measured and recorded.\n",
    "   - The performance (computation time and memory usage) of solving the puzzle using the `hamming_distance` heuristic is measured and recorded.\n",
    "3. Returns the results as a dictionary containing the recorded times and memory usages for both heuristics."
   ]
  },
  {
   "cell_type": "code",
   "id": "075695da-3539-4802-aba1-adbd254bc6fc",
   "metadata": {
    "ExecuteTime": {
     "end_time": "2024-11-30T23:02:53.392068Z",
     "start_time": "2024-11-30T23:02:53.389782Z"
    }
   },
   "source": [
    "def run_experiment():\n",
    "    results = {\n",
    "        'manhattan_distance': {'time': [], 'memory': []},\n",
    "        'hamming_distance': {'time': [], 'memory': []}\n",
    "    }\n",
    "\n",
    "    for _ in range(100):\n",
    "        board = Board.generate_random()\n",
    "\n",
    "        time_md, memory_md = measure_performance(manhattan_distance, board)\n",
    "        results['manhattan_distance']['time'].append(time_md)\n",
    "        results['manhattan_distance']['memory'].append(memory_md)\n",
    "\n",
    "        time_hd, memory_hd = measure_performance(hamming_distance, board)\n",
    "        results['hamming_distance']['time'].append(time_hd)\n",
    "        results['hamming_distance']['memory'].append(memory_hd)\n",
    "\n",
    "    return results"
   ],
   "outputs": [],
   "execution_count": 45
  },
  {
   "metadata": {
    "ExecuteTime": {
     "end_time": "2024-11-30T23:02:53.396296Z",
     "start_time": "2024-11-30T23:02:53.394349Z"
    }
   },
   "cell_type": "code",
   "source": [
    "def print_all_results(results):\n",
    "    \"\"\"\n",
    "    Prints all results in a tabular format.\n",
    "    :param results: dict containing the recorded times and memory usages for both heuristics.\n",
    "    :return: None\n",
    "    \"\"\"\n",
    "    data = {\n",
    "        'Iteration': list(range(1, 101)),\n",
    "        'Manhattan Time (s)': results['manhattan_distance']['time'],\n",
    "        'Manhattan Memory (bytes)': results['manhattan_distance']['memory'],\n",
    "        'Hamming Time (s)': results['hamming_distance']['time'],\n",
    "        'Hamming Memory (bytes)': results['hamming_distance']['memory']\n",
    "    }\n",
    "    df = pd.DataFrame(data)\n",
    "    print(df.to_string(index=False))"
   ],
   "id": "b8355386e98ec78a",
   "outputs": [],
   "execution_count": 46
  },
  {
   "cell_type": "markdown",
   "id": "6104e0a1-1781-4e8d-82db-3dad9cf2cecd",
   "metadata": {},
   "source": [
    "## Summarize Results\n",
    "\n",
    "The `summarize_results` function calculates the average computation time and memory usage for each heuristic over 100 iterations. It processes the results obtained from the `run_experiment` function and returns a summary dictionary."
   ]
  },
  {
   "cell_type": "code",
   "id": "d2c7543b-1322-4297-a141-e36a83fb6e38",
   "metadata": {
    "ExecuteTime": {
     "end_time": "2024-11-30T23:02:53.402678Z",
     "start_time": "2024-11-30T23:02:53.400647Z"
    }
   },
   "source": [
    "def summarize_results(results):\n",
    "    \"\"\"\n",
    "    :param results: dict containing the recorded times and memory usages for both heuristics.\n",
    "    :return: dict containing the average computation time and memory usage for each heuristic.\n",
    "    \"\"\"\n",
    "    summary = {\n",
    "        'manhattan_distance': {\n",
    "            'avg_time': sum(results['manhattan_distance']['time']) / 100,\n",
    "            'avg_memory': sum(results['manhattan_distance']['memory']) / 100\n",
    "        },\n",
    "        'hamming_distance': {\n",
    "            'avg_time': sum(results['hamming_distance']['time']) / 100,\n",
    "            'avg_memory': sum(results['hamming_distance']['memory']) / 100\n",
    "        }\n",
    "    }\n",
    "    return summary"
   ],
   "outputs": [],
   "execution_count": 47
  },
  {
   "cell_type": "markdown",
   "id": "674001e8-a6c7-4304-81e0-92b6d16fbf87",
   "metadata": {},
   "source": [
    "## Display Results\n",
    "\n",
    "The `display_results` function prints a summary table of the average computation time and memory usage for each heuristic. It uses the `tabulate` library to format the table in a grid layout."
   ]
  },
  {
   "metadata": {
    "ExecuteTime": {
     "end_time": "2024-11-30T23:02:53.408619Z",
     "start_time": "2024-11-30T23:02:53.406614Z"
    }
   },
   "cell_type": "code",
   "source": [
    "def display_results(summary):\n",
    "    \"\"\"\n",
    "    :param summary: dict containing the average computation time and memory usage for each heuristic.\n",
    "    :return: None\n",
    "    \"\"\"\n",
    "    # Convert time to milliseconds and memory to kilobytes\n",
    "    summary['manhattan_distance']['avg_time'] *= 1000  # seconds to milliseconds\n",
    "    summary['hamming_distance']['avg_time'] *= 1000  # seconds to milliseconds\n",
    "    summary['manhattan_distance']['avg_memory'] /= 1024  # bytes to kilobytes\n",
    "    summary['hamming_distance']['avg_memory'] /= 1024  # bytes to kilobytes\n",
    "\n",
    "    table = [\n",
    "        [\"Heuristic\", \"Avg. Computation Time (ms)\", \"Avg. Memory Usage (KB)\"],\n",
    "        [\"Manhattan Distance\", summary['manhattan_distance']['avg_time'], summary['manhattan_distance']['avg_memory']],\n",
    "        [\"Hamming Distance\", summary['hamming_distance']['avg_time'], summary['hamming_distance']['avg_memory']]\n",
    "    ]\n",
    "    print(tabulate(table, headers=\"firstrow\", tablefmt=\"grid\"))"
   ],
   "id": "657fc492-8e2f-44da-9ae2-867550b87d87",
   "outputs": [],
   "execution_count": 48
  },
  {
   "cell_type": "markdown",
   "id": "b8ce7a01-b43c-4f34-8974-20a7726d3c92",
   "metadata": {},
   "source": [
    "## Visualize Results\n",
    "\n",
    "The `visualize_results` function creates a visual comparison of the average computation time and memory usage for each heuristic. It uses the matplotlib library to generate a bar chart and a line plot on the same figure."
   ]
  },
  {
   "cell_type": "code",
   "id": "36eb82da-67ee-4755-8a76-5ae5846b2962",
   "metadata": {
    "ExecuteTime": {
     "end_time": "2024-11-30T23:02:53.419703Z",
     "start_time": "2024-11-30T23:02:53.417305Z"
    }
   },
   "source": [
    "def visualize_results(summary):\n",
    "    \"\"\"\n",
    "    Visualizes the average computation time and memory usage for each heuristic.\n",
    "\n",
    "    This function creates two side-by-side bar charts: one for the average computation time and one for the average memory usage of solving the 8-puzzle problem using different heuristics.\n",
    "\n",
    "    :param summary: dict\n",
    "        A dictionary containing the average computation time and memory usage for each heuristic.\n",
    "        The dictionary should have the following structure:\n",
    "        {\n",
    "            'manhattan_distance': {\n",
    "                'avg_time': float,  # Average computation time in milliseconds\n",
    "                'avg_memory': float  # Average memory usage in nodes\n",
    "            },\n",
    "            'hamming_distance': {\n",
    "                'avg_time': float,  # Average computation time in milliseconds\n",
    "                'avg_memory': float  # Average memory usage in nodes\n",
    "            }\n",
    "        }\n",
    "    :return: None\n",
    "    \"\"\"\n",
    "    heuristics = [\"Manhattan Distance\", \"Hamming Distance\"]\n",
    "    avg_times = [summary['manhattan_distance']['avg_time'], summary['hamming_distance']['avg_time']]\n",
    "    avg_memory = [summary['manhattan_distance']['avg_memory'], summary['hamming_distance']['avg_memory']]\n",
    "\n",
    "    fig, (ax1, ax2) = plt.subplots(1, 2, figsize=(12, 6))\n",
    "\n",
    "    # Plot for average computation time\n",
    "    ax1.set_title('Average Computation Time')\n",
    "    ax1.set_xlabel('Heuristic')\n",
    "    ax1.set_ylabel('Avg. Computation Time (ms)')\n",
    "    ax1.bar(heuristics, avg_times, color='tab:blue', alpha=0.6)\n",
    "\n",
    "    # Plot for average memory usage\n",
    "    ax2.set_title('Average Memory Usage')\n",
    "    ax2.set_xlabel('Heuristic')\n",
    "    ax2.set_ylabel('Avg. Memory Usage (nodes)')\n",
    "    ax2.bar(heuristics, avg_memory, color='tab:red', alpha=0.6)\n",
    "\n",
    "    fig.tight_layout()\n",
    "    plt.show()"
   ],
   "outputs": [],
   "execution_count": 49
  },
  {
   "cell_type": "code",
   "id": "24bfac0f-c4d7-42bb-af65-2fd297772cc5",
   "metadata": {
    "ExecuteTime": {
     "end_time": "2024-11-30T23:03:26.152676Z",
     "start_time": "2024-11-30T23:02:53.422293Z"
    }
   },
   "source": "results = run_experiment()",
   "outputs": [],
   "execution_count": 50
  },
  {
   "metadata": {},
   "cell_type": "code",
   "outputs": [],
   "execution_count": null,
   "source": "summary = summarize_results(results)",
   "id": "cdf2471a515bd738"
  },
  {
   "cell_type": "code",
   "id": "c4de8ea0-9fe4-45f3-a929-e74ddb1fa05c",
   "metadata": {
    "ExecuteTime": {
     "end_time": "2024-11-30T23:03:26.161129Z",
     "start_time": "2024-11-30T23:03:26.157253Z"
    }
   },
   "source": "print_all_results(results)",
   "outputs": [
    {
     "name": "stdout",
     "output_type": "stream",
     "text": [
      " Iteration  Manhattan Time (s)  Manhattan Memory (bytes)  Hamming Time (s)  Hamming Memory (bytes)\n",
      "         1            0.007168                       700          0.100974                    6027\n",
      "         2            0.001075                       149          0.005865                     792\n",
      "         3            0.005314                       653          0.050345                    3045\n",
      "         4            0.004724                       627          0.236143                   17910\n",
      "         5            0.028360                      3284          0.700087                   46399\n",
      "         6            0.009848                      1144          0.127900                   11548\n",
      "         7            0.004601                       556          0.131868                    9017\n",
      "         8            0.052363                      6161          1.836523                  108469\n",
      "         9            0.026813                      3170          1.120034                   74123\n",
      "        10            0.008950                      1121          0.085481                   10707\n",
      "        11            0.002915                       355          0.080761                    6394\n",
      "        12            0.000662                        90          0.002315                     321\n",
      "        13            0.008921                      1157          0.180201                   14946\n",
      "        14            0.002379                       309          0.018592                    2493\n",
      "        15            0.001563                       208          0.036338                    1297\n",
      "        16            0.005518                       702          0.086018                    6369\n",
      "        17            0.021168                      2771          0.796683                   58674\n",
      "        18            0.063454                      4178          0.829549                   57397\n",
      "        19            0.001187                       151          0.010308                    1348\n",
      "        20            0.007988                      1036          0.136090                   12376\n",
      "        21            0.085445                      7137          1.068974                   67287\n",
      "        22            0.010080                      1268          0.076458                    9171\n",
      "        23            0.009629                      1200          0.227332                   19364\n",
      "        24            0.003056                       410          0.146943                   11524\n",
      "        25            0.002195                       273          0.031743                    3885\n",
      "        26            0.011841                      1442          0.460156                   34401\n",
      "        27            0.004544                       559          0.073450                    5275\n",
      "        28            0.003873                       516          0.020322                    2683\n",
      "        29            0.002151                       297          0.054768                    2704\n",
      "        30            0.010397                      1291          0.074377                    5514\n",
      "        31            0.011614                      1505          0.277135                   19623\n",
      "        32            0.003084                       406          0.021744                    2708\n",
      "        33            0.003714                       498          0.115112                    9591\n",
      "        34            0.001976                       263          0.075143                    5796\n",
      "        35            0.008212                      1084          0.127146                   12360\n",
      "        36            0.000800                       106          0.003719                     505\n",
      "        37            0.000730                        99          0.003174                     443\n",
      "        38            0.037894                      1641          0.350214                   27957\n",
      "        39            0.005741                       740          0.064966                    4786\n",
      "        40            0.004862                       610          0.024202                    3163\n",
      "        41            0.000243                        34          0.001918                     262\n",
      "        42            0.073169                      5443          0.841356                   60213\n",
      "        43            0.067827                      4279          0.915552                   59356\n",
      "        44            0.000224                        26          0.000471                      59\n",
      "        45            0.001329                       177          0.010576                    1319\n",
      "        46            0.005586                       748          0.051614                    6196\n",
      "        47            0.002616                       347          0.049526                    3054\n",
      "        48            0.010393                      1264          0.473450                   31642\n",
      "        49            0.048027                      5752          1.477636                   88895\n",
      "        50            0.026214                      2927          0.326815                   29602\n",
      "        51            0.001362                       173          0.039186                    1453\n",
      "        52            0.012528                      1492          0.230532                   19566\n",
      "        53            0.006674                       825          0.075270                    5990\n",
      "        54            0.011291                      1438          0.444569                   31195\n",
      "        55            0.036922                      4467          0.635891                   43127\n",
      "        56            0.050323                      6206          1.426461                   89538\n",
      "        57            0.003045                       351          0.026036                    3121\n",
      "        58            0.022857                      2821          0.634649                   44827\n",
      "        59            0.004080                       526          0.020168                    2698\n",
      "        60            0.000384                        56          0.006323                     841\n",
      "        61            0.000242                        34          0.000508                      70\n",
      "        62            0.005012                       657          0.097922                    7894\n",
      "        63            0.013974                      1738          0.472822                   34536\n",
      "        64            0.001506                       193          0.012058                    1602\n",
      "        65            0.000903                       116          0.009518                    1195\n",
      "        66            0.029315                      3618          0.938183                   60913\n",
      "        67            0.012566                      1546          0.570555                   44878\n",
      "        68            0.003047                       393          0.102611                    9258\n",
      "        69            0.002646                       360          0.078206                    6337\n",
      "        70            0.010212                      1297          0.583821                   41481\n",
      "        71            0.013954                      1621          0.625567                   43457\n",
      "        72            0.006725                       800          0.272469                   21002\n",
      "        73            0.001129                       142          0.016337                    2113\n",
      "        74            0.005869                       759          0.414862                   28346\n",
      "        75            0.004382                       542          0.041049                    4939\n",
      "        76            0.005424                       697          0.569918                   41498\n",
      "        77            0.009771                      1246          0.276298                   20234\n",
      "        78            0.002337                       293          0.025188                    3087\n",
      "        79            0.039209                      1318          0.215462                   15191\n",
      "        80            0.016370                      2110          0.220578                   18819\n",
      "        81            0.025343                      3231          0.678936                   49221\n",
      "        82            0.002822                       377          0.019722                    2565\n",
      "        83            0.006031                       775          0.149619                   11338\n",
      "        84            0.000888                       115          0.128359                   10994\n",
      "        85            0.000921                       117          0.018450                    2463\n",
      "        86            0.004165                       521          0.063898                    4682\n",
      "        87            0.069696                      5575          0.752587                   52043\n",
      "        88            0.039893                      4694          0.792839                   57326\n",
      "        89            0.056599                      6814          1.965150                  125308\n",
      "        90            0.016539                      2043          0.287013                   19975\n",
      "        91            0.027812                      3385          0.680315                   43400\n",
      "        92            0.000655                        83          0.004381                     573\n",
      "        93            0.008716                      1141          0.198340                   19137\n",
      "        94            0.043529                      2415          0.360992                   25965\n",
      "        95            0.006543                       857          0.574895                   43564\n",
      "        96            0.010581                      1279          0.140238                   12130\n",
      "        97            0.006784                       869          0.143536                    9021\n",
      "        98            0.001620                       199          0.011705                    1396\n",
      "        99            0.109049                      8893          1.140980                   76887\n",
      "       100            0.001327                       165          0.016548                    2067\n"
     ]
    }
   ],
   "execution_count": 51
  },
  {
   "metadata": {
    "ExecuteTime": {
     "end_time": "2024-11-30T23:03:26.167169Z",
     "start_time": "2024-11-30T23:03:26.165581Z"
    }
   },
   "cell_type": "code",
   "source": "display_results(summary)",
   "id": "7512177baff08202",
   "outputs": [
    {
     "name": "stdout",
     "output_type": "stream",
     "text": [
      "+--------------------+------------------------------+--------------------------+\n",
      "| Heuristic          |   Avg. Computation Time (ms) |   Avg. Memory Usage (KB) |\n",
      "+====================+==============================+==========================+\n",
      "| Manhattan Distance |                      14.9601 |                  1.48679 |\n",
      "+--------------------+------------------------------+--------------------------+\n",
      "| Hamming Distance   |                     312.296  |                 21.4673  |\n",
      "+--------------------+------------------------------+--------------------------+\n"
     ]
    }
   ],
   "execution_count": 52
  },
  {
   "metadata": {
    "ExecuteTime": {
     "end_time": "2024-11-30T23:03:26.285229Z",
     "start_time": "2024-11-30T23:03:26.184779Z"
    }
   },
   "cell_type": "code",
   "source": "visualize_results(summary)",
   "id": "6bf9e9d36543ed4c",
   "outputs": [
    {
     "data": {
      "text/plain": [
       "<Figure size 1200x600 with 2 Axes>"
      ],
      "image/png": "[encoded data removed]"
     },
     "metadata": {},
     "output_type": "display_data"
    }
   ],
   "execution_count": 53
  }
 ],
 "metadata": {
  "kernelspec": {
   "display_name": "Python 3 (ipykernel)",
   "language": "python",
   "name": "python3"
  },
  "language_info": {
   "codemirror_mode": {
    "name": "ipython",
    "version": 3
   },
   "file_extension": ".py",
   "mimetype": "text/x-python",
   "name": "python",
   "nbconvert_exporter": "python",
   "pygments_lexer": "ipython3",
   "version": "3.12.0"
  }
 },
 "nbformat": 4,
 "nbformat_minor": 5
}
