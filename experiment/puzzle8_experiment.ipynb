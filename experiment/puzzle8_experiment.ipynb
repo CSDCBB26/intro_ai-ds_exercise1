{
 "cells": [
  {
   "cell_type": "markdown",
   "id": "fccfb6f4-2323-4b8f-b16d-ff22ef77cd3b",
   "metadata": {},
   "source": [
    "# Experiment\n",
    "\n",
    "## Introduction\n",
    "\n",
    "1. Run 100 random tests for each heuristic.\n",
    "2. Measure memory usage (expanded nodes) and runtime.\n",
    "3. Provide mean and standard deviation of memory usage and execution time for each heuristic.\n",
    "\n"
   ]
  },
  {
   "cell_type": "code",
   "id": "f4bc9201-c58a-4392-a2af-e1a6c59d766b",
   "metadata": {
    "ExecuteTime": {
     "end_time": "2024-12-01T18:51:35.240644Z",
     "start_time": "2024-12-01T18:51:35.233706Z"
    }
   },
   "source": [
    "import time\n",
    "\n",
    "import pandas as pd\n",
    "from tabulate import tabulate\n",
    "\n",
    "from puzzle.board import Board\n",
    "from puzzle.heuristics import manhattan_distance, hamming_distance\n",
    "from puzzle.solver import Solver"
   ],
   "outputs": [],
   "execution_count": 81
  },
  {
   "cell_type": "markdown",
   "id": "60111806-81cc-4826-b7fb-4e2d5b2b1dd4",
   "metadata": {},
   "source": [
    "## Measure Performance\n",
    "\n",
    "Measures the performance of solving the 8-puzzle using a specified heuristic.\n",
    "\n",
    "This function calculates the computation time and memory usage required to solve the puzzle using the given heuristic. It initializes the solver with the provided board and heuristic, executes the solver and then measures the time taken and memory consumed during the process.\n"
   ]
  },
  {
   "cell_type": "code",
   "id": "61ce00cb-5fb4-4c44-8356-4e0be043916f",
   "metadata": {
    "ExecuteTime": {
     "end_time": "2024-12-01T18:51:35.247914Z",
     "start_time": "2024-12-01T18:51:35.245207Z"
    }
   },
   "source": [
    "def measure_performance(heuristic, board):\n",
    "    \"\"\"\n",
    "    Parameters:\n",
    "    heuristic (function): The heuristic function to be used (e.g., manhattan_distance, hamming_distance).\n",
    "    board (Board): The current state of the 8-puzzle board.\n",
    "\n",
    "    Returns:\n",
    "    tuple: A tuple containing the computation time (in seconds) and memory usage (number of expanded nodes).\n",
    "    \"\"\"\n",
    "    start_time = time.time()\n",
    "\n",
    "    solver = Solver(board, heuristic)\n",
    "    _, expanded_nodes = solver.solve()\n",
    "\n",
    "    end_time = time.time()\n",
    "\n",
    "    computation_time = end_time - start_time\n",
    "\n",
    "    return computation_time, expanded_nodes"
   ],
   "outputs": [],
   "execution_count": 82
  },
  {
   "cell_type": "markdown",
   "id": "19500d13-1b59-422d-8fce-9c0d55155372",
   "metadata": {},
   "source": [
    "## Run Experiment\n",
    "\n",
    "The `run_experiment` function performs the following tasks:\n",
    "\n",
    "1. Initializes a dictionary to store the results for two heuristics: `manhattan_distance` and `hamming_tiles`.\n",
    "2. Runs 100 iterations where:\n",
    "   - A random solvable 8-puzzle board is generated.\n",
    "   - The performance (computation time and memory usage) of solving the puzzle using the `manhattan_distance` heuristic is measured and recorded.\n",
    "   - The performance (computation time and memory usage) of solving the puzzle using the `hamming_distance` heuristic is measured and recorded.\n",
    "3. Returns the results as a dictionary containing the recorded times and memory usages for both heuristics."
   ]
  },
  {
   "cell_type": "code",
   "id": "075695da-3539-4802-aba1-adbd254bc6fc",
   "metadata": {
    "ExecuteTime": {
     "end_time": "2024-12-01T18:51:35.258482Z",
     "start_time": "2024-12-01T18:51:35.255922Z"
    }
   },
   "source": [
    "def run_experiment():\n",
    "    results = {\n",
    "        'manhattan_distance': {'time': [], 'memory': []},\n",
    "        'hamming_distance': {'time': [], 'memory': []}\n",
    "    }\n",
    "\n",
    "    for _ in range(100):\n",
    "        board = Board.generate_random()\n",
    "\n",
    "        time_md, memory_md = measure_performance(manhattan_distance, board)\n",
    "        results['manhattan_distance']['time'].append(time_md)\n",
    "        results['manhattan_distance']['memory'].append(memory_md)\n",
    "\n",
    "        time_hd, memory_hd = measure_performance(hamming_distance, board)\n",
    "        results['hamming_distance']['time'].append(time_hd)\n",
    "        results['hamming_distance']['memory'].append(memory_hd)\n",
    "\n",
    "    return results"
   ],
   "outputs": [],
   "execution_count": 83
  },
  {
   "cell_type": "code",
   "id": "b8355386e98ec78a",
   "metadata": {
    "ExecuteTime": {
     "end_time": "2024-12-01T18:51:35.265302Z",
     "start_time": "2024-12-01T18:51:35.263242Z"
    }
   },
   "source": [
    "def print_all_results(results):\n",
    "    \"\"\"\n",
    "    Prints all results in a tabular format.\n",
    "    :param results: dict containing the recorded times and memory usages for both heuristics.\n",
    "    :return: None\n",
    "    \"\"\"\n",
    "    data = {\n",
    "        'Iteration': list(range(1, 101)),\n",
    "        'Manhattan Time (s)': results['manhattan_distance']['time'],\n",
    "        'Manhattan Memory (bytes)': results['manhattan_distance']['memory'],\n",
    "        'Hamming Time (s)': results['hamming_distance']['time'],\n",
    "        'Hamming Memory (bytes)': results['hamming_distance']['memory']\n",
    "    }\n",
    "    df = pd.DataFrame(data)\n",
    "    print(df.to_string(index=False))"
   ],
   "outputs": [],
   "execution_count": 84
  },
  {
   "cell_type": "markdown",
   "id": "6104e0a1-1781-4e8d-82db-3dad9cf2cecd",
   "metadata": {},
   "source": [
    "## Summarize Results\n",
    "\n",
    "The `summarize_results` function calculates the average and standard deviation of computation time and memory usage for each heuristic over 100 iterations. It processes the results obtained from the run_experiment function and returns a summary dictionary."
   ]
  },
  {
   "cell_type": "code",
   "id": "d2c7543b-1322-4297-a141-e36a83fb6e38",
   "metadata": {
    "ExecuteTime": {
     "end_time": "2024-12-01T18:51:35.272191Z",
     "start_time": "2024-12-01T18:51:35.269759Z"
    }
   },
   "source": [
    "import statistics\n",
    "\n",
    "\n",
    "def summarize_results(results):\n",
    "    \"\"\"\n",
    "    :param results: dict containing the recorded times and memory usages for both heuristics.\n",
    "    :return: dict containing the average and standard deviation of computation time and memory usage for each heuristic.\n",
    "    \"\"\"\n",
    "    summary = {\n",
    "        'manhattan_distance': {\n",
    "            'avg_time': sum(results['manhattan_distance']['time']) / 100,\n",
    "            'std_time': statistics.stdev(results['manhattan_distance']['time']),\n",
    "            'avg_memory': sum(results['manhattan_distance']['memory']) / 100,\n",
    "            'std_memory': statistics.stdev(results['manhattan_distance']['memory'])\n",
    "        },\n",
    "        'hamming_distance': {\n",
    "            'avg_time': sum(results['hamming_distance']['time']) / 100,\n",
    "            'std_time': statistics.stdev(results['hamming_distance']['time']),\n",
    "            'avg_memory': sum(results['hamming_distance']['memory']) / 100,\n",
    "            'std_memory': statistics.stdev(results['hamming_distance']['memory'])\n",
    "        }\n",
    "    }\n",
    "    return summary"
   ],
   "outputs": [],
   "execution_count": 85
  },
  {
   "cell_type": "markdown",
   "id": "674001e8-a6c7-4304-81e0-92b6d16fbf87",
   "metadata": {},
   "source": [
    "## Display Results\n",
    "\n",
    "The `display_results` function prints a summary table of the average computation time and memory usage for each heuristic. It uses the `tabulate` library to format the table in a grid layout."
   ]
  },
  {
   "cell_type": "code",
   "id": "657fc492-8e2f-44da-9ae2-867550b87d87",
   "metadata": {
    "ExecuteTime": {
     "end_time": "2024-12-01T18:51:35.278931Z",
     "start_time": "2024-12-01T18:51:35.276230Z"
    }
   },
   "source": [
    "def display_results(summary):\n",
    "    \"\"\"\n",
    "    :param summary: dict containing the average and standard deviation of computation time and memory usage for each heuristic.\n",
    "    :return: None\n",
    "    \"\"\"\n",
    "    # Convert time to milliseconds and memory to kilobytes\n",
    "    summary['manhattan_distance']['avg_time'] *= 1000  # seconds to milliseconds\n",
    "    summary['hamming_distance']['avg_time'] *= 1000  # seconds to milliseconds\n",
    "    summary['manhattan_distance']['std_time'] *= 1000  # seconds to milliseconds\n",
    "    summary['hamming_distance']['std_time'] *= 1000  # seconds to milliseconds\n",
    "    summary['manhattan_distance']['avg_memory'] /= 1024  # bytes to kilobytes\n",
    "    summary['hamming_distance']['avg_memory'] /= 1024  # bytes to kilobytes\n",
    "    summary['manhattan_distance']['std_memory'] /= 1024  # bytes to kilobytes\n",
    "    summary['hamming_distance']['std_memory'] /= 1024  # bytes to kilobytes\n",
    "\n",
    "    table = [\n",
    "        [\"Heuristic\", \"Avg. Computation Time (ms)\", \"Std. Computation Time (ms)\", \"Avg. Memory Usage (KB)\",\n",
    "         \"Std. Memory Usage (KB)\"],\n",
    "        [\"Hamming Distance\", summary['hamming_distance']['avg_time'], summary['hamming_distance']['std_time'],\n",
    "         summary['hamming_distance']['avg_memory'],\n",
    "         summary['hamming_distance']['std_memory']],\n",
    "        [\"Manhattan Distance\", summary['manhattan_distance']['avg_time'], summary['manhattan_distance']['std_time'],\n",
    "         summary['manhattan_distance']['avg_memory'],\n",
    "         summary['manhattan_distance']['std_memory']]\n",
    "    ]\n",
    "    print(tabulate(table, headers=\"firstrow\", tablefmt=\"grid\"))"
   ],
   "outputs": [],
   "execution_count": 86
  },
  {
   "cell_type": "markdown",
   "id": "b8ce7a01-b43c-4f34-8974-20a7726d3c92",
   "metadata": {},
   "source": [
    "## Visualize Results\n",
    "\n",
    "The `visualize_results` function creates a visual comparison of the average computation time and memory usage for each heuristic. It uses the matplotlib library to generate a bar chart and a line plot on the same figure."
   ]
  },
  {
   "cell_type": "code",
   "id": "36eb82da-67ee-4755-8a76-5ae5846b2962",
   "metadata": {
    "ExecuteTime": {
     "end_time": "2024-12-01T18:51:35.286139Z",
     "start_time": "2024-12-01T18:51:35.283011Z"
    }
   },
   "source": [
    "from matplotlib import pyplot as plt\n",
    "\n",
    "\n",
    "def visualize_results(summary):\n",
    "    \"\"\"\n",
    "    Visualizes the average and standard deviation of computation time and memory usage for each heuristic.\n",
    "\n",
    "    This function creates two side-by-side bar charts: one for the average and standard deviation of computation time and one for the average memory usage of solving the 8-puzzle problem using different heuristics.\n",
    "\n",
    "    :param summary: dict\n",
    "        A dictionary containing the average and standard deviation of computation time and memory usage for each heuristic.\n",
    "        The dictionary should have the following structure:\n",
    "        {\n",
    "            'manhattan_distance': {\n",
    "                'avg_time': float,  # Average computation time in milliseconds\n",
    "                'std_time': float,  # Standard deviation of computation time in milliseconds\n",
    "                'avg_memory': float  # Average memory usage in nodes\n",
    "            },\n",
    "            'hamming_distance': {\n",
    "                'avg_time': float,  # Average computation time in milliseconds\n",
    "                'std_time': float,  # Standard deviation of computation time in milliseconds\n",
    "                'avg_memory': float  # Average memory usage in nodes\n",
    "            }\n",
    "        }\n",
    "    :return: None\n",
    "    \"\"\"\n",
    "    heuristics = [\"Manhattan Distance\", \"Hamming Distance\"]\n",
    "    avg_times = [summary['manhattan_distance']['avg_time'], summary['hamming_distance']['avg_time']]\n",
    "    std_times = [summary['manhattan_distance']['std_time'], summary['hamming_distance']['std_time']]\n",
    "    avg_memory = [summary['manhattan_distance']['avg_memory'], summary['hamming_distance']['avg_memory']]\n",
    "    std_memory = [summary['manhattan_distance']['std_memory'], summary['hamming_distance']['std_memory']]\n",
    "\n",
    "    fig, (ax1, ax2) = plt.subplots(1, 2, figsize=(12, 6))\n",
    "\n",
    "    # Plot for average and standard deviation of computation time\n",
    "    ax1.set_title('Average and Std. Dev. Computation Time')\n",
    "    ax1.set_xlabel('Heuristic')\n",
    "    ax1.set_ylabel('Time (ms)')\n",
    "    ax1.bar(heuristics, avg_times, yerr=std_times, color='tab:blue', alpha=0.6, capsize=5)\n",
    "\n",
    "    # Plot for average memory usage\n",
    "    ax2.set_title('Average and Std. Dev. Memory Usage')\n",
    "    ax2.set_xlabel('Heuristic')\n",
    "    ax2.set_ylabel('Memory Usage (KB)')\n",
    "    ax2.bar(heuristics, avg_memory, yerr=std_memory, color='tab:red', alpha=0.6, capsize=5)\n",
    "\n",
    "    fig.tight_layout()\n",
    "    plt.show()"
   ],
   "outputs": [],
   "execution_count": 87
  },
  {
   "cell_type": "code",
   "id": "24bfac0f-c4d7-42bb-af65-2fd297772cc5",
   "metadata": {
    "ExecuteTime": {
     "end_time": "2024-12-01T18:51:54.534787Z",
     "start_time": "2024-12-01T18:51:35.293693Z"
    }
   },
   "source": [
    "results = run_experiment()"
   ],
   "outputs": [],
   "execution_count": 88
  },
  {
   "cell_type": "code",
   "id": "cdf2471a515bd738",
   "metadata": {
    "ExecuteTime": {
     "end_time": "2024-12-01T18:51:54.541626Z",
     "start_time": "2024-12-01T18:51:54.539616Z"
    }
   },
   "source": [
    "summary = summarize_results(results)"
   ],
   "outputs": [],
   "execution_count": 89
  },
  {
   "cell_type": "code",
   "id": "c4de8ea0-9fe4-45f3-a929-e74ddb1fa05c",
   "metadata": {
    "ExecuteTime": {
     "end_time": "2024-12-01T18:51:54.553368Z",
     "start_time": "2024-12-01T18:51:54.548906Z"
    }
   },
   "source": [
    "print_all_results(results)"
   ],
   "outputs": [
    {
     "name": "stdout",
     "output_type": "stream",
     "text": [
      " Iteration  Manhattan Time (s)  Manhattan Memory (bytes)  Hamming Time (s)  Hamming Memory (bytes)\n",
      "         1            0.007914                       653          0.140179                    6663\n",
      "         2            0.002745                       341          0.050801                    2434\n",
      "         3            0.003060                       391          0.098445                    8119\n",
      "         4            0.002928                       400          0.091450                    6591\n",
      "         5            0.006452                       657          0.098954                    6092\n",
      "         6            0.145761                     11503          1.868689                  117397\n",
      "         7            0.000659                        70          0.002146                     277\n",
      "         8            0.000991                       136          0.017009                    2165\n",
      "         9            0.002871                       373          0.018570                    2467\n",
      "        10            0.000237                        31          0.000460                      61\n",
      "        11            0.011413                      1502          0.173035                   13584\n",
      "        12            0.011612                      1513          0.168651                   12795\n",
      "        13            0.001576                       202          0.045342                    5659\n",
      "        14            0.004041                       540          0.084278                    6096\n",
      "        15            0.006184                       727          0.163823                   12465\n",
      "        16            0.022020                      2793          0.330703                   26053\n",
      "        17            0.002768                       367          0.050353                    3061\n",
      "        18            0.019636                      2527          0.301849                   23358\n",
      "        19            0.005671                       745          0.040286                    4914\n",
      "        20            0.008209                      1087          0.263510                   20579\n",
      "        21            0.005165                       640          0.166558                   12069\n",
      "        22            0.008831                      1144          0.243362                   21246\n",
      "        23            0.004352                       569          0.050582                    3077\n",
      "        24            0.002811                       385          0.022874                    3006\n",
      "        25            0.013145                      1725          0.293345                   22826\n",
      "        26            0.003937                       494          0.053694                    3051\n",
      "        27            0.033986                      4301          0.658024                   42096\n",
      "        28            0.012342                      1496          0.264641                   21580\n",
      "        29            0.019947                      2459          0.591212                   43368\n",
      "        30            0.011677                      1394          0.193847                   14071\n",
      "        31            0.003297                       419          0.039539                    4823\n",
      "        32            0.039648                      1304          0.364824                   26372\n",
      "        33            0.000184                        20          0.000313                      40\n",
      "        34            0.011392                      1479          0.146211                   13712\n",
      "        35            0.002705                       361          0.046139                    2768\n",
      "        36            0.012973                      1625          0.110833                    9932\n",
      "        37            0.030738                       582          0.018245                    2385\n",
      "        38            0.003266                       429          0.167284                   11985\n",
      "        39            0.003676                       486          0.096399                    8297\n",
      "        40            0.003231                       419          0.025016                    3049\n",
      "        41            0.001741                       238          0.009973                    1331\n",
      "        42            0.000655                        90          0.005444                     741\n",
      "        43            0.002589                       345          0.010850                    1419\n",
      "        44            0.004486                       580          0.073325                    5897\n",
      "        45            0.002701                       356          0.066454                    5262\n",
      "        46            0.004776                       624          0.074723                    6202\n",
      "        47            0.011320                      1435          0.155608                    9885\n",
      "        48            0.021875                      2828          0.725538                   48348\n",
      "        49            0.005054                       673          0.047509                    5651\n",
      "        50            0.010328                      1348          0.153585                   14564\n",
      "        51            0.003869                       524          0.172918                   12931\n",
      "        52            0.008405                      1059          0.096189                    8470\n",
      "        53            0.001061                       143          0.032028                     956\n",
      "        54            0.001293                       175          0.012348                    1574\n",
      "        55            0.001246                       161          0.016475                    2191\n",
      "        56            0.001265                       167          0.015766                    2108\n",
      "        57            0.032994                       985          0.100387                    8955\n",
      "        58            0.000751                        90          0.010934                    1378\n",
      "        59            0.001077                       147          0.012124                    1618\n",
      "        60            0.002166                       302          0.008303                    1033\n",
      "        61            0.076424                      5259          0.948661                   59454\n",
      "        62            0.006638                       857          0.586693                   43564\n",
      "        63            0.002720                       343          0.020383                    2527\n",
      "        64            0.002316                       315          0.041541                    5397\n",
      "        65            0.008221                      1069          0.173955                   11948\n",
      "        66            0.006269                       827          0.350185                   25347\n",
      "        67            0.002482                       320          0.029353                    3579\n",
      "        68            0.010721                      1352          0.601261                   43359\n",
      "        69            0.004212                       563          0.105972                    8314\n",
      "        70            0.004608                       607          0.076250                    5222\n",
      "        71            0.023836                      2897          0.972645                   56942\n",
      "        72            0.012089                      1512          0.181941                   14167\n",
      "        73            0.007065                       809          0.055957                    6353\n",
      "        74            0.042270                      1321          0.443180                   33834\n",
      "        75            0.005000                       636          0.155956                   11022\n",
      "        76            0.004074                       532          0.100166                    8449\n",
      "        77            0.004938                       652          0.097430                    8230\n",
      "        78            0.013750                      1780          0.891660                   59217\n",
      "        79            0.009032                      1111          0.109835                    9379\n",
      "        80            0.011359                      1376          0.234212                   19640\n",
      "        81            0.001336                       177          0.007782                    1017\n",
      "        82            0.003836                       511          0.060123                    4080\n",
      "        83            0.008965                      1111          0.122128                   11676\n",
      "        84            0.033370                      1166          0.254370                   21848\n",
      "        85            0.004945                       638          0.042471                    2065\n",
      "        86            0.006148                       821          0.104739                    9644\n",
      "        87            0.008437                      1095          0.072674                    5419\n",
      "        88            0.003195                       438          0.020379                    2734\n",
      "        89            0.035780                      1487          0.375523                   26626\n",
      "        90            0.001720                       215          0.009241                    1214\n",
      "        91            0.002411                       310          0.040516                    5181\n",
      "        92            0.000229                        32          0.027087                     293\n",
      "        93            0.000366                        49          0.002523                     355\n",
      "        94            0.012351                      1543          0.365082                   25584\n",
      "        95            0.004313                       528          0.088489                    6785\n",
      "        96            0.004062                       516          0.105221                    8337\n",
      "        97            0.022097                      2730          0.679826                   45257\n",
      "        98            0.009148                      1163          0.125303                   10529\n",
      "        99            0.011427                      1428          0.141716                   12281\n",
      "       100            0.000781                        99          0.005354                     666\n"
     ]
    }
   ],
   "execution_count": 90
  },
  {
   "metadata": {},
   "cell_type": "markdown",
   "source": "",
   "id": "9e8d1ce270bdf158"
  },
  {
   "cell_type": "code",
   "id": "7512177baff08202",
   "metadata": {
    "editable": true,
    "slideshow": {
     "slide_type": ""
    },
    "tags": [],
    "ExecuteTime": {
     "end_time": "2024-12-01T18:51:54.574810Z",
     "start_time": "2024-12-01T18:51:54.572438Z"
    }
   },
   "source": [
    "display_results(summary)"
   ],
   "outputs": [
    {
     "name": "stdout",
     "output_type": "stream",
     "text": [
      "+--------------------+------------------------------+------------------------------+--------------------------+--------------------------+\n",
      "| Heuristic          |   Avg. Computation Time (ms) |   Std. Computation Time (ms) |   Avg. Memory Usage (KB) |   Std. Memory Usage (KB) |\n",
      "+====================+==============================+==============================+==========================+==========================+\n",
      "| Hamming Distance   |                     181.897  |                     271.215  |                12.9749   |                 17.0312  |\n",
      "+--------------------+------------------------------+------------------------------+--------------------------+--------------------------+\n",
      "| Manhattan Distance |                      10.4665 |                      17.8266 |                 0.983926 |                  1.34077 |\n",
      "+--------------------+------------------------------+------------------------------+--------------------------+--------------------------+\n"
     ]
    }
   ],
   "execution_count": 91
  },
  {
   "cell_type": "code",
   "id": "6bf9e9d36543ed4c",
   "metadata": {
    "ExecuteTime": {
     "end_time": "2024-12-01T18:51:54.743729Z",
     "start_time": "2024-12-01T18:51:54.593844Z"
    }
   },
   "source": "visualize_results(summary)",
   "outputs": [
    {
     "data": {
      "text/plain": [
       "<Figure size 1200x600 with 2 Axes>"
      ],
      "image/png": "[encoded data removed]"
     },
     "metadata": {},
     "output_type": "display_data"
    }
   ],
   "execution_count": 92
  }
 ],
 "metadata": {
  "kernelspec": {
   "display_name": "Python 3 (ipykernel)",
   "language": "python",
   "name": "python3"
  },
  "language_info": {
   "codemirror_mode": {
    "name": "ipython",
    "version": 3
   },
   "file_extension": ".py",
   "mimetype": "text/x-python",
   "name": "python",
   "nbconvert_exporter": "python",
   "pygments_lexer": "ipython3",
   "version": "3.12.0"
  }
 },
 "nbformat": 4,
 "nbformat_minor": 5
}
