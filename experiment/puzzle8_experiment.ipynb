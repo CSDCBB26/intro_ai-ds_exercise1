{
 "cells": [
  {
   "cell_type": "markdown",
   "id": "fccfb6f4-2323-4b8f-b16d-ff22ef77cd3b",
   "metadata": {},
   "source": [
    "# Experiment\n",
    "\n",
    "## Introduction\n",
    "\n",
    "1. Run 100 random tests for each heuristic.\n",
    "2. Measure memory usage (expanded nodes) and runtime.\n",
    "3. Provide mean and standard deviation of memory usage and execution time for each heuristic.\n",
    "\n"
   ]
  },
  {
   "cell_type": "code",
   "execution_count": 1,
   "id": "f4bc9201-c58a-4392-a2af-e1a6c59d766b",
   "metadata": {
    "ExecuteTime": {
     "end_time": "2024-11-30T23:48:39.040050Z",
     "start_time": "2024-11-30T23:48:38.562646Z"
    }
   },
   "outputs": [],
   "source": [
    "import time\n",
    "\n",
    "import matplotlib.pyplot as plt\n",
    "import pandas as pd\n",
    "from tabulate import tabulate\n",
    "\n",
    "from puzzle.board import Board\n",
    "from puzzle.heuristics import manhattan_distance, hamming_distance\n",
    "from puzzle.solver import Solver"
   ]
  },
  {
   "cell_type": "markdown",
   "id": "60111806-81cc-4826-b7fb-4e2d5b2b1dd4",
   "metadata": {},
   "source": [
    "## Measure Performance\n",
    "\n",
    "Measures the performance of solving the 8-puzzle using a specified heuristic.\n",
    "\n",
    "This function calculates the computation time and memory usage required to solve the puzzle using the given heuristic. It initializes the solver with the provided board and heuristic, executes the solver and then measures the time taken and memory consumed during the process.\n"
   ]
  },
  {
   "cell_type": "code",
   "execution_count": 2,
   "id": "61ce00cb-5fb4-4c44-8356-4e0be043916f",
   "metadata": {
    "ExecuteTime": {
     "end_time": "2024-11-30T23:48:39.044597Z",
     "start_time": "2024-11-30T23:48:39.042761Z"
    }
   },
   "outputs": [],
   "source": [
    "def measure_performance(heuristic, board):\n",
    "    \"\"\"\n",
    "    Parameters:\n",
    "    heuristic (function): The heuristic function to be used (e.g., manhattan_distance, hamming_distance).\n",
    "    board (Board): The current state of the 8-puzzle board.\n",
    "\n",
    "    Returns:\n",
    "    tuple: A tuple containing the computation time (in seconds) and memory usage (number of expanded nodes).\n",
    "    \"\"\"\n",
    "    start_time = time.time()\n",
    "\n",
    "    solver = Solver(board, heuristic)\n",
    "    _, expanded_nodes = solver.solve()\n",
    "\n",
    "    end_time = time.time()\n",
    "\n",
    "    computation_time = end_time - start_time\n",
    "\n",
    "    return computation_time, expanded_nodes"
   ]
  },
  {
   "cell_type": "markdown",
   "id": "19500d13-1b59-422d-8fce-9c0d55155372",
   "metadata": {},
   "source": [
    "## Run Experiment\n",
    "\n",
    "The `run_experiment` function performs the following tasks:\n",
    "\n",
    "1. Initializes a dictionary to store the results for two heuristics: `manhattan_distance` and `hamming_tiles`.\n",
    "2. Runs 100 iterations where:\n",
    "   - A random solvable 8-puzzle board is generated.\n",
    "   - The performance (computation time and memory usage) of solving the puzzle using the `manhattan_distance` heuristic is measured and recorded.\n",
    "   - The performance (computation time and memory usage) of solving the puzzle using the `hamming_distance` heuristic is measured and recorded.\n",
    "3. Returns the results as a dictionary containing the recorded times and memory usages for both heuristics."
   ]
  },
  {
   "cell_type": "code",
   "execution_count": 3,
   "id": "075695da-3539-4802-aba1-adbd254bc6fc",
   "metadata": {
    "ExecuteTime": {
     "end_time": "2024-11-30T23:48:39.110658Z",
     "start_time": "2024-11-30T23:48:39.108580Z"
    }
   },
   "outputs": [],
   "source": [
    "def run_experiment():\n",
    "    results = {\n",
    "        'manhattan_distance': {'time': [], 'memory': []},\n",
    "        'hamming_distance': {'time': [], 'memory': []}\n",
    "    }\n",
    "\n",
    "    for _ in range(100):\n",
    "        board = Board.generate_random()\n",
    "\n",
    "        time_md, memory_md = measure_performance(manhattan_distance, board)\n",
    "        results['manhattan_distance']['time'].append(time_md)\n",
    "        results['manhattan_distance']['memory'].append(memory_md)\n",
    "\n",
    "        time_hd, memory_hd = measure_performance(hamming_distance, board)\n",
    "        results['hamming_distance']['time'].append(time_hd)\n",
    "        results['hamming_distance']['memory'].append(memory_hd)\n",
    "\n",
    "    return results"
   ]
  },
  {
   "cell_type": "code",
   "execution_count": 4,
   "id": "b8355386e98ec78a",
   "metadata": {
    "ExecuteTime": {
     "end_time": "2024-11-30T23:48:39.115819Z",
     "start_time": "2024-11-30T23:48:39.114152Z"
    }
   },
   "outputs": [],
   "source": [
    "def print_all_results(results):\n",
    "    \"\"\"\n",
    "    Prints all results in a tabular format.\n",
    "    :param results: dict containing the recorded times and memory usages for both heuristics.\n",
    "    :return: None\n",
    "    \"\"\"\n",
    "    data = {\n",
    "        'Iteration': list(range(1, 101)),\n",
    "        'Manhattan Time (s)': results['manhattan_distance']['time'],\n",
    "        'Manhattan Memory (bytes)': results['manhattan_distance']['memory'],\n",
    "        'Hamming Time (s)': results['hamming_distance']['time'],\n",
    "        'Hamming Memory (bytes)': results['hamming_distance']['memory']\n",
    "    }\n",
    "    df = pd.DataFrame(data)\n",
    "    print(df.to_string(index=False))"
   ]
  },
  {
   "cell_type": "markdown",
   "id": "6104e0a1-1781-4e8d-82db-3dad9cf2cecd",
   "metadata": {},
   "source": [
    "## Summarize Results\n",
    "\n",
    "The `summarize_results` function calculates the average and standard deviation of computation time and memory usage for each heuristic over 100 iterations. It processes the results obtained from the run_experiment function and returns a summary dictionary."
   ]
  },
  {
   "cell_type": "code",
   "execution_count": 5,
   "id": "d2c7543b-1322-4297-a141-e36a83fb6e38",
   "metadata": {
    "ExecuteTime": {
     "end_time": "2024-11-30T23:48:39.123626Z",
     "start_time": "2024-11-30T23:48:39.119141Z"
    }
   },
   "outputs": [],
   "source": [
    "import statistics\n",
    "\n",
    "\n",
    "def summarize_results(results):\n",
    "    \"\"\"\n",
    "    :param results: dict containing the recorded times and memory usages for both heuristics.\n",
    "    :return: dict containing the average and standard deviation of computation time and memory usage for each heuristic.\n",
    "    \"\"\"\n",
    "    summary = {\n",
    "        'manhattan_distance': {\n",
    "            'avg_time': sum(results['manhattan_distance']['time']) / 100,\n",
    "            'std_time': statistics.stdev(results['manhattan_distance']['time']),\n",
    "            'avg_memory': sum(results['manhattan_distance']['memory']) / 100,\n",
    "            'std_memory': statistics.stdev(results['manhattan_distance']['memory'])\n",
    "        },\n",
    "        'hamming_distance': {\n",
    "            'avg_time': sum(results['hamming_distance']['time']) / 100,\n",
    "            'std_time': statistics.stdev(results['hamming_distance']['time']),\n",
    "            'avg_memory': sum(results['hamming_distance']['memory']) / 100,\n",
    "            'std_memory': statistics.stdev(results['hamming_distance']['memory'])\n",
    "        }\n",
    "    }\n",
    "    return summary"
   ]
  },
  {
   "cell_type": "markdown",
   "id": "674001e8-a6c7-4304-81e0-92b6d16fbf87",
   "metadata": {},
   "source": [
    "## Display Results\n",
    "\n",
    "The `display_results` function prints a summary table of the average computation time and memory usage for each heuristic. It uses the `tabulate` library to format the table in a grid layout."
   ]
  },
  {
   "cell_type": "code",
   "execution_count": 6,
   "id": "657fc492-8e2f-44da-9ae2-867550b87d87",
   "metadata": {
    "ExecuteTime": {
     "end_time": "2024-11-30T23:48:39.129040Z",
     "start_time": "2024-11-30T23:48:39.126855Z"
    }
   },
   "outputs": [],
   "source": [
    "def display_results(summary):\n",
    "    \"\"\"\n",
    "    :param summary: dict containing the average and standard deviation of computation time and memory usage for each heuristic.\n",
    "    :return: None\n",
    "    \"\"\"\n",
    "    # Convert time to milliseconds and memory to kilobytes\n",
    "    summary['manhattan_distance']['avg_time'] *= 1000  # seconds to milliseconds\n",
    "    summary['hamming_distance']['avg_time'] *= 1000  # seconds to milliseconds\n",
    "    summary['manhattan_distance']['std_time'] *= 1000  # seconds to milliseconds\n",
    "    summary['hamming_distance']['std_time'] *= 1000  # seconds to milliseconds\n",
    "    summary['manhattan_distance']['avg_memory'] /= 1024  # bytes to kilobytes\n",
    "    summary['hamming_distance']['avg_memory'] /= 1024  # bytes to kilobytes\n",
    "    summary['manhattan_distance']['std_memory'] /= 1024  # bytes to kilobytes\n",
    "    summary['hamming_distance']['std_memory'] /= 1024  # bytes to kilobytes\n",
    "\n",
    "    table = [\n",
    "        [\"Heuristic\", \"Avg. Computation Time (ms)\", \"Std. Computation Time (ms)\", \"Avg. Memory Usage (KB)\", \"Std. Memory Usage (KB)\"],\n",
    "        [\"Hamming Distance\", summary['hamming_distance']['avg_time'], summary['hamming_distance']['std_time'],\n",
    "         summary['hamming_distance']['avg_memory'],\n",
    "         summary['hamming_distance']['std_memory']],\n",
    "        [\"Manhattan Distance\", summary['manhattan_distance']['avg_time'], summary['manhattan_distance']['std_time'],\n",
    "         summary['manhattan_distance']['avg_memory'],\n",
    "         summary['manhattan_distance']['std_memory']]\n",
    "    ]\n",
    "    print(tabulate(table, headers=\"firstrow\", tablefmt=\"grid\"))"
   ]
  },
  {
   "cell_type": "markdown",
   "id": "b8ce7a01-b43c-4f34-8974-20a7726d3c92",
   "metadata": {},
   "source": [
    "## Visualize Results\n",
    "\n",
    "The `visualize_results` function creates a visual comparison of the average computation time and memory usage for each heuristic. It uses the matplotlib library to generate a bar chart and a line plot on the same figure."
   ]
  },
  {
   "cell_type": "code",
   "execution_count": 7,
   "id": "36eb82da-67ee-4755-8a76-5ae5846b2962",
   "metadata": {
    "ExecuteTime": {
     "end_time": "2024-11-30T23:48:39.134540Z",
     "start_time": "2024-11-30T23:48:39.132111Z"
    }
   },
   "outputs": [],
   "source": [
    "def visualize_results(summary):\n",
    "    \"\"\"\n",
    "    Visualizes the average and standard deviation of computation time and memory usage for each heuristic.\n",
    "\n",
    "    This function creates two side-by-side bar charts: one for the average and standard deviation of computation time and one for the average memory usage of solving the 8-puzzle problem using different heuristics.\n",
    "\n",
    "    :param summary: dict\n",
    "        A dictionary containing the average and standard deviation of computation time and memory usage for each heuristic.\n",
    "        The dictionary should have the following structure:\n",
    "        {\n",
    "            'manhattan_distance': {\n",
    "                'avg_time': float,  # Average computation time in milliseconds\n",
    "                'std_time': float,  # Standard deviation of computation time in milliseconds\n",
    "                'avg_memory': float  # Average memory usage in nodes\n",
    "            },\n",
    "            'hamming_distance': {\n",
    "                'avg_time': float,  # Average computation time in milliseconds\n",
    "                'std_time': float,  # Standard deviation of computation time in milliseconds\n",
    "                'avg_memory': float  # Average memory usage in nodes\n",
    "            }\n",
    "        }\n",
    "    :return: None\n",
    "    \"\"\"\n",
    "    heuristics = [\"Manhattan Distance\", \"Hamming Distance\"]\n",
    "    avg_times = [summary['manhattan_distance']['avg_time'], summary['hamming_distance']['avg_time']]\n",
    "    std_times = [summary['manhattan_distance']['std_time'], summary['hamming_distance']['std_time']]\n",
    "    avg_memory = [summary['manhattan_distance']['avg_memory'], summary['hamming_distance']['avg_memory']]\n",
    "    std_memory = [summary['manhattan_distance']['std_memory'], summary['hamming_distance']['std_memory']]\n",
    "\n",
    "    fig, (ax1, ax2) = plt.subplots(1, 2, figsize=(12, 6))\n",
    "\n",
    "    # Plot for average and standard deviation of computation time\n",
    "    ax1.set_title('Average and Std. Dev. Computation Time')\n",
    "    ax1.set_xlabel('Heuristic')\n",
    "    ax1.set_ylabel('Time (ms)')\n",
    "    ax1.bar(heuristics, avg_times, yerr=std_times, color='tab:blue', alpha=0.6, capsize=5)\n",
    "\n",
    "    # Plot for average memory usage\n",
    "    ax2.set_title('Average and Std. Dev. Memory Usage')\n",
    "    ax2.set_xlabel('Heuristic')\n",
    "    ax2.set_ylabel('Memory Usage (KB)')\n",
    "    ax2.bar(heuristics, avg_memory, yerr=std_memory, color='tab:red', alpha=0.6, capsize=5)\n",
    "\n",
    "    fig.tight_layout()\n",
    "    plt.show()"
   ]
  },
  {
   "cell_type": "code",
   "execution_count": 8,
   "id": "24bfac0f-c4d7-42bb-af65-2fd297772cc5",
   "metadata": {
    "ExecuteTime": {
     "end_time": "2024-12-01T17:38:56.773029Z",
     "start_time": "2024-12-01T17:38:56.687582Z"
    }
   },
   "outputs": [],
   "source": [
    "results = run_experiment()"
   ]
  },
  {
   "cell_type": "code",
   "execution_count": 9,
   "id": "cdf2471a515bd738",
   "metadata": {
    "ExecuteTime": {
     "end_time": "2024-11-30T23:49:00.888251Z",
     "start_time": "2024-11-30T23:46:49.764411Z"
    }
   },
   "outputs": [],
   "source": [
    "summary = summarize_results(results)"
   ]
  },
  {
   "cell_type": "code",
   "execution_count": 10,
   "id": "c4de8ea0-9fe4-45f3-a929-e74ddb1fa05c",
   "metadata": {
    "ExecuteTime": {
     "end_time": "2024-11-30T23:49:00.888906Z",
     "start_time": "2024-11-30T23:46:49.769979Z"
    }
   },
   "outputs": [
    {
     "name": "stdout",
     "output_type": "stream",
     "text": [
      " Iteration  Manhattan Time (s)  Manhattan Memory (bytes)  Hamming Time (s)  Hamming Memory (bytes)\n",
      "         1            0.001451                        94          0.016115                    2002\n",
      "         2            0.003155                       407          0.146303                   11573\n",
      "         3            0.006398                       802          0.137549                   12373\n",
      "         4            0.001372                       187          0.016874                    2290\n",
      "         5            0.002672                       358          0.008051                    1098\n",
      "         6            0.031035                      1759          0.131512                   14303\n",
      "         7            0.021948                       731          0.084710                    8409\n",
      "         8            0.017715                      2354          0.557371                   44256\n",
      "         9            0.014791                      1943          0.270237                   20053\n",
      "        10            0.058905                      4694          0.893833                   57804\n",
      "        11            0.000147                        17          0.000587                      77\n",
      "        12            0.001892                       255          0.010169                    1347\n",
      "        13            0.016590                      2122          0.290386                   25750\n",
      "        14            0.005951                       765          0.135668                   11455\n",
      "        15            0.001990                       259          0.016834                    2214\n",
      "        16            0.006087                       811          0.307576                   25883\n",
      "        17            0.030875                      1618          0.322285                   25583\n",
      "        18            0.004587                       636          0.110790                   11708\n",
      "        19            0.006288                       847          0.133678                   12570\n",
      "        20            0.000592                        81          0.003210                     453\n",
      "        21            0.041736                      3121          0.832696                   60525\n",
      "        22            0.017938                      2360          0.500384                   46433\n",
      "        23            0.023150                       740          0.111628                   11910\n",
      "        24            0.012305                      1644          0.215741                   18716\n",
      "        25            0.001345                       185          0.009787                    1329\n",
      "        26            0.000210                        30          0.000586                      84\n",
      "        27            0.023506                      3088          0.533279                   43740\n",
      "        28            0.013634                      1751          0.399915                   33880\n",
      "        29            0.001008                       138          0.003646                     488\n",
      "        30            0.008141                      1092          0.228446                   18308\n",
      "        31            0.009780                      1264          0.199290                   18688\n",
      "        32            0.001194                       163          0.007404                    1014\n",
      "        33            0.058431                      5183          0.971014                   76288\n",
      "        34            0.008665                      1107          0.214092                   18433\n",
      "        35            0.005914                       809          0.197935                   18940\n",
      "        36            0.011051                      1360          0.313233                   26765\n",
      "        37            0.001735                       238          0.033908                    2073\n",
      "        38            0.008572                      1101          0.079377                    6710\n",
      "        39            0.013318                      1677          0.891856                   67771\n",
      "        40            0.005637                       695          0.103705                   10603\n",
      "        41            0.002781                       367          0.038434                    2826\n",
      "        42            0.018324                      2311          0.228490                   19982\n",
      "        43            0.002322                       312          0.011717                    1606\n",
      "        44            0.020250                      2689          0.225199                   19157\n",
      "        45            0.011264                      1455          0.569452                   43619\n",
      "        46            0.020521                      2684          0.217361                   20866\n",
      "        47            0.006125                       818          0.058899                    5172\n",
      "        48            0.020228                      2613          0.299425                   26748\n",
      "        49            0.000362                        49          0.000806                     107\n",
      "        50            0.004661                       643          0.059196                    5317\n",
      "        51            0.003980                       551          0.020213                    2728\n",
      "        52            0.002893                       404          0.056472                    5454\n",
      "        53            0.012135                      1618          0.539498                   44622\n",
      "        54            0.008384                      1089          0.147257                   13593\n",
      "        55            0.002788                       382          0.059339                    5423\n",
      "        56            0.005036                       673          0.055313                    5015\n",
      "        57            0.026613                      3511          0.836126                   57855\n",
      "        58            0.013107                      1654          0.405471                   34460\n",
      "        59            0.043579                      2772          1.050279                   67795\n",
      "        60            0.007441                       975          0.111235                   11308\n",
      "        61            0.002078                       276          0.007986                    1093\n",
      "        62            0.002885                       378          0.066171                    6350\n",
      "        63            0.011958                      1576          0.134146                   11929\n",
      "        64            0.002136                       289          0.009754                    1292\n",
      "        65            0.005489                       743          0.169954                   13715\n",
      "        66            0.008290                      1092          0.113936                   12268\n",
      "        67            0.028300                      1516          0.271256                   22127\n",
      "        68            0.000199                        25          0.000969                     134\n",
      "        69            0.000574                        80          0.014774                    1979\n",
      "        70            0.007197                       936          0.086326                    8468\n",
      "        71            0.002697                       371          0.034040                    4299\n",
      "        72            0.025196                       972          0.113957                   12173\n",
      "        73            0.005718                       752          0.113974                    9894\n",
      "        74            0.001135                       160          0.034688                    4692\n",
      "        75            0.000403                        55          0.001661                     238\n",
      "        76            0.001330                       185          0.034920                    2529\n",
      "        77            0.003265                       458          0.020522                    2775\n",
      "        78            0.001143                       158          0.008731                    1175\n",
      "        79            0.023130                       814          0.209509                   19196\n",
      "        80            0.006454                       826          0.126197                   10387\n",
      "        81            0.002645                       367          0.019138                    2589\n",
      "        82            0.005942                       818          0.057860                    5199\n",
      "        83            0.002961                       411          0.264523                   21418\n",
      "        84            0.006165                       758          0.106019                   10523\n",
      "        85            0.001718                       236          0.016648                    2262\n",
      "        86            0.004948                       691          0.063751                    6190\n",
      "        87            0.016131                      2135          0.549323                   46228\n",
      "        88            0.024387                       895          0.116408                   12319\n",
      "        89            0.013232                      1744          0.342553                   29965\n",
      "        90            0.003642                       498          0.060379                    5400\n",
      "        91            0.002826                       392          0.063638                    5940\n",
      "        92            0.000279                        41          0.004932                     687\n",
      "        93            0.004813                       655          0.079901                    8197\n",
      "        94            0.004580                       598          0.140965                   13175\n",
      "        95            0.005523                       761          0.150843                   13924\n",
      "        96            0.008978                      1201          0.165036                   15238\n",
      "        97            0.001898                       257          0.011972                    1591\n",
      "        98            0.008052                      1089          0.364095                   30794\n",
      "        99            0.009516                      1268          0.555774                   42658\n",
      "       100            0.019939                      2619          0.364805                   31976\n"
     ]
    }
   ],
   "source": [
    "print_all_results(results)"
   ]
  },
  {
   "cell_type": "code",
   "execution_count": 11,
   "id": "7512177baff08202",
   "metadata": {
    "ExecuteTime": {
     "end_time": "2024-11-30T23:49:00.889122Z",
     "start_time": "2024-11-30T23:46:49.843488Z"
    },
    "editable": true,
    "slideshow": {
     "slide_type": ""
    },
    "tags": []
   },
   "outputs": [
    {
     "name": "stdout",
     "output_type": "stream",
     "text": [
      "+--------------------+------------------------------+------------------------------+--------------------------+--------------------------+\n",
      "| Heuristic          |   Avg. Computation Time (ms) |   Std. Computation Time (ms) |   Avg. Memory Usage (KB) |   Std. Memory Usage (KB) |\n",
      "+====================+==============================+==============================+==========================+==========================+\n",
      "| Hamming Distance   |                     195.039  |                     236.669  |                 15.8256  |                17.034    |\n",
      "+--------------------+------------------------------+------------------------------+--------------------------+--------------------------+\n",
      "| Manhattan Distance |                      10.2225 |                      11.5293 |                  1.02687 |                 0.967761 |\n",
      "+--------------------+------------------------------+------------------------------+--------------------------+--------------------------+\n"
     ]
    }
   ],
   "source": [
    "display_results(summary)"
   ]
  },
  {
   "cell_type": "code",
   "execution_count": 12,
   "id": "6bf9e9d36543ed4c",
   "metadata": {
    "ExecuteTime": {
     "end_time": "2024-11-30T23:49:00.889267Z",
     "start_time": "2024-11-30T23:46:49.856378Z"
    }
   },
   "outputs": [
    {
     "data": {
      "image/png": "[encoded data removed]",
      "text/plain": [
       "<Figure size 1200x600 with 2 Axes>"
      ]
     },
     "metadata": {},
     "output_type": "display_data"
    }
   ],
   "source": [
    "visualize_results(summary)"
   ]
  }
 ],
 "metadata": {
  "kernelspec": {
   "display_name": "Python 3 (ipykernel)",
   "language": "python",
   "name": "python3"
  },
  "language_info": {
   "codemirror_mode": {
    "name": "ipython",
    "version": 3
   },
   "file_extension": ".py",
   "mimetype": "text/x-python",
   "name": "python",
   "nbconvert_exporter": "python",
   "pygments_lexer": "ipython3",
   "version": "3.12.0"
  }
 },
 "nbformat": 4,
 "nbformat_minor": 5
}
