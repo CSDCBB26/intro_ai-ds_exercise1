{
 "cells": [
  {
   "cell_type": "markdown",
   "id": "fccfb6f4-2323-4b8f-b16d-ff22ef77cd3b",
   "metadata": {},
   "source": [
    "# Experiment\n",
    "\n",
    "## Introduction\n",
    "\n",
    "1. Generate a random solvable state and define the goal state.\n",
    "2. Implement A\\* search with the two heuristics.\n",
    "3. Run 100 random tests for each heuristic.\n",
    "4. Measure memory usage (expanded nodes) and runtime.\n",
    "5. Compute mean and standard deviation.\n",
    "\n",
    "\n"
   ]
  },
  {
   "cell_type": "code",
   "id": "f4bc9201-c58a-4392-a2af-e1a6c59d766b",
   "metadata": {
    "ExecuteTime": {
     "end_time": "2024-11-30T22:47:28.020565Z",
     "start_time": "2024-11-30T22:47:28.017345Z"
    }
   },
   "source": [
    "import time\n",
    "import psutil\n",
    "import pandas as pd\n",
    "import matplotlib.pyplot as plt\n",
    "from tabulate import tabulate\n",
    "from puzzle.board import Board\n",
    "from puzzle.solver import Solver\n",
    "from puzzle.heuristics import manhattan_distance, hamming_distance"
   ],
   "outputs": [],
   "execution_count": 12
  },
  {
   "cell_type": "markdown",
   "id": "60111806-81cc-4826-b7fb-4e2d5b2b1dd4",
   "metadata": {},
   "source": [
    "## Measure Performance\n",
    "\n",
    "Measures the performance of solving the 8-puzzle using a specified heuristic.\n",
    "\n",
    "This function calculates the computation time and memory usage required to solve the puzzle using the given heuristic. It initializes the solver with the provided board and heuristic, executes the solver and then measures the time taken and memory consumed during the process.\n"
   ]
  },
  {
   "cell_type": "code",
   "id": "61ce00cb-5fb4-4c44-8356-4e0be043916f",
   "metadata": {
    "ExecuteTime": {
     "end_time": "2024-11-30T22:47:28.044199Z",
     "start_time": "2024-11-30T22:47:28.041268Z"
    }
   },
   "source": [
    "def measure_performance(heuristic, board):\n",
    "    \"\"\"\n",
    "    Parameters:\n",
    "    heuristic (function): The heuristic function to be used (e.g., manhattan_distance, hamming_distance).\n",
    "    board (Board): The current state of the 8-puzzle board.\n",
    "\n",
    "    Returns:\n",
    "    tuple: A tuple containing the computation time (in seconds) and memory usage (in bytes).\n",
    "    \"\"\"\n",
    "    start_time = time.time()\n",
    "    process = psutil.Process()\n",
    "    initial_memory = process.memory_info().rss\n",
    "\n",
    "    solver = Solver(board, heuristic)\n",
    "    solver.solve()\n",
    "\n",
    "    end_time = time.time()\n",
    "    final_memory = process.memory_info().rss\n",
    "\n",
    "    computation_time = end_time - start_time\n",
    "    memory_usage = final_memory - initial_memory\n",
    "\n",
    "    return computation_time, memory_usage"
   ],
   "outputs": [],
   "execution_count": 13
  },
  {
   "cell_type": "markdown",
   "id": "19500d13-1b59-422d-8fce-9c0d55155372",
   "metadata": {},
   "source": [
    "## Run Experiment\n",
    "\n",
    "The `run_experiment` function performs the following tasks:\n",
    "\n",
    "1. Initializes a dictionary to store the results for two heuristics: `manhattan_distance` and `hamming_tiles`.\n",
    "2. Runs 100 iterations where:\n",
    "   - A random solvable 8-puzzle board is generated.\n",
    "   - The performance (computation time and memory usage) of solving the puzzle using the `manhattan_distance` heuristic is measured and recorded.\n",
    "   - The performance (computation time and memory usage) of solving the puzzle using the `hamming_distance` heuristic is measured and recorded.\n",
    "3. Returns the results as a dictionary containing the recorded times and memory usages for both heuristics."
   ]
  },
  {
   "cell_type": "code",
   "id": "075695da-3539-4802-aba1-adbd254bc6fc",
   "metadata": {
    "ExecuteTime": {
     "end_time": "2024-11-30T22:47:28.056114Z",
     "start_time": "2024-11-30T22:47:28.053724Z"
    }
   },
   "source": [
    "def run_experiment():\n",
    "    results = {\n",
    "        'manhattan_distance': {'time': [], 'memory': []},\n",
    "        'hamming_distance': {'time': [], 'memory': []}\n",
    "    }\n",
    "\n",
    "    for _ in range(100):\n",
    "        board = Board.generate_random()\n",
    "\n",
    "        time_md, memory_md = measure_performance(manhattan_distance, board)\n",
    "        results['manhattan_distance']['time'].append(time_md)\n",
    "        results['manhattan_distance']['memory'].append(memory_md)\n",
    "\n",
    "        time_hd, memory_hd = measure_performance(hamming_distance, board)\n",
    "        results['hamming_distance']['time'].append(time_hd)\n",
    "        results['hamming_distance']['memory'].append(memory_hd)\n",
    "\n",
    "    return results"
   ],
   "outputs": [],
   "execution_count": 14
  },
  {
   "cell_type": "markdown",
   "id": "6104e0a1-1781-4e8d-82db-3dad9cf2cecd",
   "metadata": {},
   "source": [
    "## Summarize Results\n",
    "\n",
    "The `summarize_results` function calculates the average computation time and memory usage for each heuristic over 100 iterations. It processes the results obtained from the `run_experiment` function and returns a summary dictionary."
   ]
  },
  {
   "cell_type": "code",
   "id": "d2c7543b-1322-4297-a141-e36a83fb6e38",
   "metadata": {
    "ExecuteTime": {
     "end_time": "2024-11-30T22:47:28.065589Z",
     "start_time": "2024-11-30T22:47:28.063338Z"
    }
   },
   "source": [
    "def summarize_results(results):\n",
    "    \"\"\"\n",
    "    :param results: dict containing the recorded times and memory usages for both heuristics.\n",
    "    :return: dict containing the average computation time and memory usage for each heuristic.\n",
    "    \"\"\"\n",
    "    summary = {\n",
    "        'manhattan_distance': {\n",
    "            'avg_time': sum(results['manhattan_distance']['time']) / 100,\n",
    "            'avg_memory': sum(results['manhattan_distance']['memory']) / 100\n",
    "        },\n",
    "        'hamming_distance': {\n",
    "            'avg_time': sum(results['hamming_distance']['time']) / 100,\n",
    "            'avg_memory': sum(results['hamming_distance']['memory']) / 100\n",
    "        }\n",
    "    }\n",
    "    return summary"
   ],
   "outputs": [],
   "execution_count": 15
  },
  {
   "cell_type": "markdown",
   "id": "674001e8-a6c7-4304-81e0-92b6d16fbf87",
   "metadata": {},
   "source": [
    "## Display Results\n",
    "\n",
    "The `display_results` function prints a summary table of the average computation time and memory usage for each heuristic. It uses the `tabulate` library to format the table in a grid layout."
   ]
  },
  {
   "metadata": {
    "ExecuteTime": {
     "end_time": "2024-11-30T22:47:28.070970Z",
     "start_time": "2024-11-30T22:47:28.068657Z"
    }
   },
   "cell_type": "code",
   "source": [
    "def display_results(summary):\n",
    "    \"\"\"\n",
    "    :param summary: dict containing the average computation time and memory usage for each heuristic.\n",
    "    :return: None\n",
    "    \"\"\"\n",
    "    # Convert time to milliseconds and memory to kilobytes\n",
    "    summary['manhattan_distance']['avg_time'] *= 1000  # seconds to milliseconds\n",
    "    summary['hamming_distance']['avg_time'] *= 1000  # seconds to milliseconds\n",
    "    summary['manhattan_distance']['avg_memory'] /= 1024  # bytes to kilobytes\n",
    "    summary['hamming_distance']['avg_memory'] /= 1024  # bytes to kilobytes\n",
    "\n",
    "    table = [\n",
    "        [\"Heuristic\", \"Avg. Computation Time (ms)\", \"Avg. Memory Usage (KB)\"],\n",
    "        [\"Manhattan Distance\", summary['manhattan_distance']['avg_time'], summary['manhattan_distance']['avg_memory']],\n",
    "        [\"Hamming Distance\", summary['hamming_distance']['avg_time'], summary['hamming_distance']['avg_memory']]\n",
    "    ]\n",
    "    print(tabulate(table, headers=\"firstrow\", tablefmt=\"grid\"))"
   ],
   "id": "657fc492-8e2f-44da-9ae2-867550b87d87",
   "outputs": [],
   "execution_count": 16
  },
  {
   "cell_type": "markdown",
   "id": "b8ce7a01-b43c-4f34-8974-20a7726d3c92",
   "metadata": {},
   "source": [
    "## Visualize Results\n",
    "\n",
    "The `visualize_results` function creates a visual comparison of the average computation time and memory usage for each heuristic. It uses the matplotlib library to generate a bar chart and a line plot on the same figure."
   ]
  },
  {
   "cell_type": "code",
   "id": "36eb82da-67ee-4755-8a76-5ae5846b2962",
   "metadata": {
    "ExecuteTime": {
     "end_time": "2024-11-30T22:47:28.078109Z",
     "start_time": "2024-11-30T22:47:28.075630Z"
    }
   },
   "source": [
    "def visualize_results(summary):\n",
    "    \"\"\"\n",
    "    :param summary: dict containing the average computation time and memory usage for each heuristic.\n",
    "    :return: None\n",
    "    \"\"\"\n",
    "    heuristics = [\"Manhattan Distance\", \"Misplaced Tiles\"]\n",
    "    avg_times = [summary['manhattan_distance']['avg_time'], summary['hamming_distance']['avg_time']]\n",
    "    avg_memory = [summary['manhattan_distance']['avg_memory'], summary['hamming_distance']['avg_memory']]\n",
    "\n",
    "    fig, ax1 = plt.subplots()\n",
    "\n",
    "    color = 'tab:blue'\n",
    "    ax1.set_xlabel('Heuristic')\n",
    "    ax1.set_ylabel('Avg. Computation Time (s)', color=color)\n",
    "    ax1.bar(heuristics, avg_times, color=color, alpha=0.6)\n",
    "    ax1.tick_params(axis='y', labelcolor=color)\n",
    "\n",
    "    ax2 = ax1.twinx()\n",
    "    color = 'tab:red'\n",
    "    ax2.set_ylabel('Avg. Memory Usage (bytes)', color=color)\n",
    "    ax2.plot(heuristics, avg_memory, color=color, marker='o')\n",
    "    ax2.tick_params(axis='y', labelcolor=color)\n",
    "\n",
    "    fig.tight_layout()\n",
    "    plt.title('Heuristic Performance Comparison')\n",
    "    plt.show()"
   ],
   "outputs": [],
   "execution_count": 17
  },
  {
   "cell_type": "code",
   "id": "24bfac0f-c4d7-42bb-af65-2fd297772cc5",
   "metadata": {
    "ExecuteTime": {
     "end_time": "2024-11-30T22:47:45.746702Z",
     "start_time": "2024-11-30T22:47:28.087894Z"
    }
   },
   "source": [
    "results = run_experiment()\n",
    "summary = summarize_results(results)\n",
    "display_results(summary)\n",
    "visualize_results(summary)\n",
    "#print_all_results(results)"
   ],
   "outputs": [
    {
     "name": "stdout",
     "output_type": "stream",
     "text": [
      "+--------------------+------------------------------+--------------------------+\n",
      "| Heuristic          |   Avg. Computation Time (ms) |   Avg. Memory Usage (KB) |\n",
      "+====================+==============================+==========================+\n",
      "| Manhattan Distance |                      10.2248 |                  -181.92 |\n",
      "+--------------------+------------------------------+--------------------------+\n",
      "| Hamming Distance   |                     165.293  |                   171.36 |\n",
      "+--------------------+------------------------------+--------------------------+\n"
     ]
    },
    {
     "data": {
      "text/plain": [
       "<Figure size 640x480 with 2 Axes>"
      ],
      "image/png": "[encoded data removed]"
     },
     "metadata": {},
     "output_type": "display_data"
    }
   ],
   "execution_count": 18
  },
  {
   "cell_type": "code",
   "id": "c4de8ea0-9fe4-45f3-a929-e74ddb1fa05c",
   "metadata": {
    "ExecuteTime": {
     "end_time": "2024-11-30T22:47:45.752349Z",
     "start_time": "2024-11-30T22:47:45.751131Z"
    }
   },
   "source": [],
   "outputs": [],
   "execution_count": null
  }
 ],
 "metadata": {
  "kernelspec": {
   "display_name": "Python 3 (ipykernel)",
   "language": "python",
   "name": "python3"
  },
  "language_info": {
   "codemirror_mode": {
    "name": "ipython",
    "version": 3
   },
   "file_extension": ".py",
   "mimetype": "text/x-python",
   "name": "python",
   "nbconvert_exporter": "python",
   "pygments_lexer": "ipython3",
   "version": "3.12.0"
  }
 },
 "nbformat": 4,
 "nbformat_minor": 5
}
