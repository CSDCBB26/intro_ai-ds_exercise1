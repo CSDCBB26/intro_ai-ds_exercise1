{
 "cells": [
  {
   "cell_type": "markdown",
   "id": "fccfb6f4-2323-4b8f-b16d-ff22ef77cd3b",
   "metadata": {},
   "source": [
    "# Experiment\n",
    "\n",
    "## Introduction\n",
    "\n",
    "1. Generate a random solvable state and define the goal state.\n",
    "2. Implement A\\* search with the two heuristics.\n",
    "3. Run 100 random tests for each heuristic.\n",
    "4. Measure memory usage (expanded nodes) and runtime.\n",
    "5. Compute mean and standard deviation.\n",
    "\n",
    "\n"
   ]
  },
  {
   "cell_type": "code",
   "id": "f4bc9201-c58a-4392-a2af-e1a6c59d766b",
   "metadata": {
    "ExecuteTime": {
     "end_time": "2024-11-30T23:27:30.817183Z",
     "start_time": "2024-11-30T23:27:30.809688Z"
    }
   },
   "source": [
    "import time\n",
    "\n",
    "import matplotlib.pyplot as plt\n",
    "import pandas as pd\n",
    "from tabulate import tabulate\n",
    "\n",
    "from puzzle.board import Board\n",
    "from puzzle.heuristics import manhattan_distance, hamming_distance\n",
    "from puzzle.solver import Solver"
   ],
   "outputs": [],
   "execution_count": 66
  },
  {
   "cell_type": "markdown",
   "id": "60111806-81cc-4826-b7fb-4e2d5b2b1dd4",
   "metadata": {},
   "source": [
    "## Measure Performance\n",
    "\n",
    "Measures the performance of solving the 8-puzzle using a specified heuristic.\n",
    "\n",
    "This function calculates the computation time and memory usage required to solve the puzzle using the given heuristic. It initializes the solver with the provided board and heuristic, executes the solver and then measures the time taken and memory consumed during the process.\n"
   ]
  },
  {
   "cell_type": "code",
   "id": "61ce00cb-5fb4-4c44-8356-4e0be043916f",
   "metadata": {
    "ExecuteTime": {
     "end_time": "2024-11-30T23:27:30.842400Z",
     "start_time": "2024-11-30T23:27:30.839913Z"
    }
   },
   "source": [
    "def measure_performance(heuristic, board):\n",
    "    \"\"\"\n",
    "    Parameters:\n",
    "    heuristic (function): The heuristic function to be used (e.g., manhattan_distance, hamming_distance).\n",
    "    board (Board): The current state of the 8-puzzle board.\n",
    "\n",
    "    Returns:\n",
    "    tuple: A tuple containing the computation time (in seconds) and memory usage (number of expanded nodes).\n",
    "    \"\"\"\n",
    "    start_time = time.time()\n",
    "\n",
    "    solver = Solver(board, heuristic)\n",
    "    _, expanded_nodes = solver.solve()\n",
    "\n",
    "    end_time = time.time()\n",
    "\n",
    "    computation_time = end_time - start_time\n",
    "\n",
    "    return computation_time, expanded_nodes"
   ],
   "outputs": [],
   "execution_count": 67
  },
  {
   "cell_type": "markdown",
   "id": "19500d13-1b59-422d-8fce-9c0d55155372",
   "metadata": {},
   "source": [
    "## Run Experiment\n",
    "\n",
    "The `run_experiment` function performs the following tasks:\n",
    "\n",
    "1. Initializes a dictionary to store the results for two heuristics: `manhattan_distance` and `hamming_tiles`.\n",
    "2. Runs 100 iterations where:\n",
    "   - A random solvable 8-puzzle board is generated.\n",
    "   - The performance (computation time and memory usage) of solving the puzzle using the `manhattan_distance` heuristic is measured and recorded.\n",
    "   - The performance (computation time and memory usage) of solving the puzzle using the `hamming_distance` heuristic is measured and recorded.\n",
    "3. Returns the results as a dictionary containing the recorded times and memory usages for both heuristics."
   ]
  },
  {
   "cell_type": "code",
   "id": "075695da-3539-4802-aba1-adbd254bc6fc",
   "metadata": {
    "ExecuteTime": {
     "end_time": "2024-11-30T23:27:30.852294Z",
     "start_time": "2024-11-30T23:27:30.850034Z"
    }
   },
   "source": [
    "def run_experiment():\n",
    "    results = {\n",
    "        'manhattan_distance': {'time': [], 'memory': []},\n",
    "        'hamming_distance': {'time': [], 'memory': []}\n",
    "    }\n",
    "\n",
    "    for _ in range(100):\n",
    "        board = Board.generate_random()\n",
    "\n",
    "        time_md, memory_md = measure_performance(manhattan_distance, board)\n",
    "        results['manhattan_distance']['time'].append(time_md)\n",
    "        results['manhattan_distance']['memory'].append(memory_md)\n",
    "\n",
    "        time_hd, memory_hd = measure_performance(hamming_distance, board)\n",
    "        results['hamming_distance']['time'].append(time_hd)\n",
    "        results['hamming_distance']['memory'].append(memory_hd)\n",
    "\n",
    "    return results"
   ],
   "outputs": [],
   "execution_count": 68
  },
  {
   "cell_type": "code",
   "id": "b8355386e98ec78a",
   "metadata": {
    "ExecuteTime": {
     "end_time": "2024-11-30T23:27:30.857545Z",
     "start_time": "2024-11-30T23:27:30.855521Z"
    }
   },
   "source": [
    "def print_all_results(results):\n",
    "    \"\"\"\n",
    "    Prints all results in a tabular format.\n",
    "    :param results: dict containing the recorded times and memory usages for both heuristics.\n",
    "    :return: None\n",
    "    \"\"\"\n",
    "    data = {\n",
    "        'Iteration': list(range(1, 101)),\n",
    "        'Manhattan Time (s)': results['manhattan_distance']['time'],\n",
    "        'Manhattan Memory (bytes)': results['manhattan_distance']['memory'],\n",
    "        'Hamming Time (s)': results['hamming_distance']['time'],\n",
    "        'Hamming Memory (bytes)': results['hamming_distance']['memory']\n",
    "    }\n",
    "    df = pd.DataFrame(data)\n",
    "    print(df.to_string(index=False))"
   ],
   "outputs": [],
   "execution_count": 69
  },
  {
   "cell_type": "markdown",
   "id": "6104e0a1-1781-4e8d-82db-3dad9cf2cecd",
   "metadata": {},
   "source": [
    "## Summarize Results\n",
    "\n",
    "The `summarize_results` function calculates the average and standard deviation of computation time and memory usage for each heuristic over 100 iterations. It processes the results obtained from the run_experiment function and returns a summary dictionary."
   ]
  },
  {
   "cell_type": "code",
   "id": "d2c7543b-1322-4297-a141-e36a83fb6e38",
   "metadata": {
    "ExecuteTime": {
     "end_time": "2024-11-30T23:27:30.863863Z",
     "start_time": "2024-11-30T23:27:30.861748Z"
    }
   },
   "source": [
    "import statistics\n",
    "\n",
    "\n",
    "def summarize_results(results):\n",
    "    \"\"\"\n",
    "    :param results: dict containing the recorded times and memory usages for both heuristics.\n",
    "    :return: dict containing the average and standard deviation of computation time and memory usage for each heuristic.\n",
    "    \"\"\"\n",
    "    summary = {\n",
    "        'manhattan_distance': {\n",
    "            'avg_time': sum(results['manhattan_distance']['time']) / 100,\n",
    "            'std_time': statistics.stdev(results['manhattan_distance']['time']),\n",
    "            'avg_memory': sum(results['manhattan_distance']['memory']) / 100,\n",
    "            'std_memory': statistics.stdev(results['manhattan_distance']['memory'])\n",
    "        },\n",
    "        'hamming_distance': {\n",
    "            'avg_time': sum(results['hamming_distance']['time']) / 100,\n",
    "            'std_time': statistics.stdev(results['hamming_distance']['time']),\n",
    "            'avg_memory': sum(results['hamming_distance']['memory']) / 100,\n",
    "            'std_memory': statistics.stdev(results['hamming_distance']['memory'])\n",
    "        }\n",
    "    }\n",
    "    return summary"
   ],
   "outputs": [],
   "execution_count": 70
  },
  {
   "cell_type": "markdown",
   "id": "674001e8-a6c7-4304-81e0-92b6d16fbf87",
   "metadata": {},
   "source": [
    "## Display Results\n",
    "\n",
    "The `display_results` function prints a summary table of the average computation time and memory usage for each heuristic. It uses the `tabulate` library to format the table in a grid layout."
   ]
  },
  {
   "cell_type": "code",
   "id": "657fc492-8e2f-44da-9ae2-867550b87d87",
   "metadata": {
    "ExecuteTime": {
     "end_time": "2024-11-30T23:27:30.870039Z",
     "start_time": "2024-11-30T23:27:30.867801Z"
    }
   },
   "source": [
    "def display_results(summary):\n",
    "    \"\"\"\n",
    "    :param summary: dict containing the average and standard deviation of computation time and memory usage for each heuristic.\n",
    "    :return: None\n",
    "    \"\"\"\n",
    "    # Convert time to milliseconds and memory to kilobytes\n",
    "    summary['manhattan_distance']['avg_time'] *= 1000  # seconds to milliseconds\n",
    "    summary['hamming_distance']['avg_time'] *= 1000  # seconds to milliseconds\n",
    "    summary['manhattan_distance']['std_time'] *= 1000  # seconds to milliseconds\n",
    "    summary['hamming_distance']['std_time'] *= 1000  # seconds to milliseconds\n",
    "    summary['manhattan_distance']['avg_memory'] /= 1024  # bytes to kilobytes\n",
    "    summary['hamming_distance']['avg_memory'] /= 1024  # bytes to kilobytes\n",
    "\n",
    "    table = [\n",
    "        [\"Heuristic\", \"Avg. Computation Time (ms)\", \"Std. Computation Time (ms)\", \"Avg. Memory Usage (KB)\"],\n",
    "        [\"Hamming Distance\", summary['hamming_distance']['avg_time'], summary['hamming_distance']['std_time'],\n",
    "         summary['hamming_distance']['avg_memory']],\n",
    "        [\"Manhattan Distance\", summary['manhattan_distance']['avg_time'], summary['manhattan_distance']['std_time'],\n",
    "         summary['manhattan_distance']['avg_memory']]\n",
    "    ]\n",
    "    print(tabulate(table, headers=\"firstrow\", tablefmt=\"grid\"))"
   ],
   "outputs": [],
   "execution_count": 71
  },
  {
   "cell_type": "markdown",
   "id": "b8ce7a01-b43c-4f34-8974-20a7726d3c92",
   "metadata": {},
   "source": [
    "## Visualize Results\n",
    "\n",
    "The `visualize_results` function creates a visual comparison of the average computation time and memory usage for each heuristic. It uses the matplotlib library to generate a bar chart and a line plot on the same figure."
   ]
  },
  {
   "cell_type": "code",
   "id": "36eb82da-67ee-4755-8a76-5ae5846b2962",
   "metadata": {
    "ExecuteTime": {
     "end_time": "2024-11-30T23:27:30.876850Z",
     "start_time": "2024-11-30T23:27:30.874240Z"
    }
   },
   "source": [
    "def visualize_results(summary):\n",
    "    \"\"\"\n",
    "    Visualizes the average and standard deviation of computation time and memory usage for each heuristic.\n",
    "\n",
    "    This function creates two side-by-side bar charts: one for the average and standard deviation of computation time and one for the average memory usage of solving the 8-puzzle problem using different heuristics.\n",
    "\n",
    "    :param summary: dict\n",
    "        A dictionary containing the average and standard deviation of computation time and memory usage for each heuristic.\n",
    "        The dictionary should have the following structure:\n",
    "        {\n",
    "            'manhattan_distance': {\n",
    "                'avg_time': float,  # Average computation time in milliseconds\n",
    "                'std_time': float,  # Standard deviation of computation time in milliseconds\n",
    "                'avg_memory': float  # Average memory usage in nodes\n",
    "            },\n",
    "            'hamming_distance': {\n",
    "                'avg_time': float,  # Average computation time in milliseconds\n",
    "                'std_time': float,  # Standard deviation of computation time in milliseconds\n",
    "                'avg_memory': float  # Average memory usage in nodes\n",
    "            }\n",
    "        }\n",
    "    :return: None\n",
    "    \"\"\"\n",
    "    heuristics = [\"Manhattan Distance\", \"Hamming Distance\"]\n",
    "    avg_times = [summary['manhattan_distance']['avg_time'], summary['hamming_distance']['avg_time']]\n",
    "    std_times = [summary['manhattan_distance']['std_time'], summary['hamming_distance']['std_time']]\n",
    "    avg_memory = [summary['manhattan_distance']['avg_memory'], summary['hamming_distance']['avg_memory']]\n",
    "\n",
    "    fig, (ax1, ax2) = plt.subplots(1, 2, figsize=(12, 6))\n",
    "\n",
    "    # Plot for average and standard deviation of computation time\n",
    "    ax1.set_title('Average and Std. Dev. Computation Time')\n",
    "    ax1.set_xlabel('Heuristic')\n",
    "    ax1.set_ylabel('Time (ms)')\n",
    "    ax1.bar(heuristics, avg_times, yerr=std_times, color='tab:blue', alpha=0.6, capsize=5)\n",
    "\n",
    "    # Plot for average memory usage\n",
    "    ax2.set_title('Average Memory Usage')\n",
    "    ax2.set_xlabel('Heuristic')\n",
    "    ax2.set_ylabel('Avg. Memory Usage (KB)')\n",
    "    ax2.bar(heuristics, avg_memory, color='tab:red', alpha=0.6)\n",
    "\n",
    "    fig.tight_layout()\n",
    "    plt.show()"
   ],
   "outputs": [],
   "execution_count": 72
  },
  {
   "cell_type": "code",
   "id": "24bfac0f-c4d7-42bb-af65-2fd297772cc5",
   "metadata": {
    "ExecuteTime": {
     "end_time": "2024-11-30T23:27:54.519012Z",
     "start_time": "2024-11-30T23:27:30.884193Z"
    }
   },
   "source": [
    "results = run_experiment()"
   ],
   "outputs": [],
   "execution_count": 73
  },
  {
   "cell_type": "code",
   "id": "cdf2471a515bd738",
   "metadata": {
    "ExecuteTime": {
     "end_time": "2024-11-30T23:27:54.527005Z",
     "start_time": "2024-11-30T23:27:54.525148Z"
    }
   },
   "source": [
    "summary = summarize_results(results)"
   ],
   "outputs": [],
   "execution_count": 74
  },
  {
   "cell_type": "code",
   "id": "c4de8ea0-9fe4-45f3-a929-e74ddb1fa05c",
   "metadata": {
    "ExecuteTime": {
     "end_time": "2024-11-30T23:27:54.535841Z",
     "start_time": "2024-11-30T23:27:54.531831Z"
    }
   },
   "source": [
    "print_all_results(results)"
   ],
   "outputs": [
    {
     "name": "stdout",
     "output_type": "stream",
     "text": [
      " Iteration  Manhattan Time (s)  Manhattan Memory (bytes)  Hamming Time (s)  Hamming Memory (bytes)\n",
      "         1            0.060831                      1141          0.121322                    9334\n",
      "         2            0.108875                      8489          2.282989                  123981\n",
      "         3            0.050857                      5747          1.004214                   59354\n",
      "         4            0.000582                        66          0.002548                     327\n",
      "         5            0.020905                      2614          0.360869                   27898\n",
      "         6            0.011842                      1441          0.425677                   32011\n",
      "         7            0.006442                       800          0.273947                   18164\n",
      "         8            0.005037                       617          0.047402                    5981\n",
      "         9            0.002977                       368          0.048770                    2465\n",
      "        10            0.006204                       759          0.077567                    5466\n",
      "        11            0.011110                      1362          0.126094                   11226\n",
      "        12            0.000146                        18          0.000513                      69\n",
      "        13            0.059530                      3799          0.581177                   38415\n",
      "        14            0.012364                      1560          0.361131                   26477\n",
      "        15            0.025401                      3104          1.026405                   72167\n",
      "        16            0.002951                       366          0.172169                   13069\n",
      "        17            0.000661                        86          0.005946                     758\n",
      "        18            0.010935                      1342          0.286915                   21439\n",
      "        19            0.070628                      5054          0.442535                   34670\n",
      "        20            0.006712                       871          0.167498                   12945\n",
      "        21            0.002505                       341          0.049964                    3065\n",
      "        22            0.030473                      3669          0.932081                   58469\n",
      "        23            0.008226                      1011          0.093992                   11415\n",
      "        24            0.001083                       144          0.005535                     741\n",
      "        25            0.011016                      1377          0.180918                   12556\n",
      "        26            0.020737                      2654          0.301549                   21335\n",
      "        27            0.005741                       729          0.128079                   10875\n",
      "        28            0.012081                      1564          0.283437                   19534\n",
      "        29            0.011317                      1361          0.260970                   19868\n",
      "        30            0.060853                      3435          0.658096                   45959\n",
      "        31            0.004070                       494          0.021534                    2822\n",
      "        32            0.001114                       157          0.008523                    1163\n",
      "        33            0.005158                       689          0.113760                    8809\n",
      "        34            0.037536                      1181          0.121951                   11434\n",
      "        35            0.001515                       201          0.041258                    2277\n",
      "        36            0.010320                      1374          0.195196                   13997\n",
      "        37            0.003002                       390          0.031666                    4067\n",
      "        38            0.009832                      1285          0.181549                   14624\n",
      "        39            0.001267                       163          0.021377                    2613\n",
      "        40            0.002479                       339          0.068532                    4993\n",
      "        41            0.004805                       601          0.081284                    6574\n",
      "        42            0.004797                       642          0.045213                    2412\n",
      "        43            0.005507                       710          0.100663                    8476\n",
      "        44            0.006296                       822          0.070359                    4522\n",
      "        45            0.007884                      1009          0.095398                    8481\n",
      "        46            0.001471                       189          0.009820                    1280\n",
      "        47            0.008447                      1035          0.090825                    8237\n",
      "        48            0.035251                      1163          0.259376                   19881\n",
      "        49            0.003992                       523          0.117297                   10768\n",
      "        50            0.033681                      1102          0.076995                    6268\n",
      "        51            0.008280                      1049          0.130305                   12180\n",
      "        52            0.057535                      2141          0.261000                   19065\n",
      "        53            0.003120                       361          0.235145                   17810\n",
      "        54            0.004483                       568          0.052115                    2780\n",
      "        55            0.013366                      1644          0.208672                   15888\n",
      "        56            0.003073                       382          0.086584                    5750\n",
      "        57            0.005802                       683          0.081091                    5517\n",
      "        58            0.000546                        67          0.022393                    2785\n",
      "        59            0.002895                       373          0.050610                    2871\n",
      "        60            0.000799                       105          0.002735                     365\n",
      "        61            0.007515                       977          0.089656                    6678\n",
      "        62            0.013109                      1529          0.133176                   11585\n",
      "        63            0.034039                       785          0.057882                    6543\n",
      "        64            0.048102                      2745          1.179044                   65029\n",
      "        65            0.007375                       905          0.275012                   25222\n",
      "        66            0.083498                      5831          0.740303                   45833\n",
      "        67            0.006279                       737          0.044866                    5362\n",
      "        68            0.003259                       411          0.077981                    6000\n",
      "        69            0.009502                      1224          0.184412                   12909\n",
      "        70            0.004921                       644          0.047179                    6093\n",
      "        71            0.046496                      2307          0.171927                   12379\n",
      "        72            0.008927                      1071          0.253373                   20150\n",
      "        73            0.026178                      3323          0.676487                   44692\n",
      "        74            0.010315                      1324          0.106206                    8573\n",
      "        75            0.001126                       145          0.017106                    2073\n",
      "        76            0.000779                       102          0.017176                    2165\n",
      "        77            0.000961                       126          0.002714                     363\n",
      "        78            0.003189                       444          0.046553                    2276\n",
      "        79            0.011159                      1441          0.410695                   28041\n",
      "        80            0.010832                      1377          0.178618                   13923\n",
      "        81            0.008941                      1176          0.267205                   18299\n",
      "        82            0.009440                      1235          0.374475                   25906\n",
      "        83            0.017275                      2134          0.153473                   14281\n",
      "        84            0.004580                       582          0.069209                    4911\n",
      "        85            0.016909                      2097          0.634205                   44699\n",
      "        86            0.015678                      2025          0.146127                   14040\n",
      "        87            0.026172                       259          0.009340                    1220\n",
      "        88            0.002965                       411          0.114805                   11357\n",
      "        89            0.037318                      1605          0.125066                   10717\n",
      "        90            0.002879                       397          0.021204                    2845\n",
      "        91            0.005203                       695          0.064972                    5050\n",
      "        92            0.012894                      1694          0.377823                   27494\n",
      "        93            0.011149                      1450          0.139890                   12967\n",
      "        94            0.002908                       389          0.045238                    2722\n",
      "        95            0.005499                       750          0.350551                   26628\n",
      "        96            0.001160                       157          0.022670                    2962\n",
      "        97            0.004816                       623          0.097094                    8424\n",
      "        98            0.004989                       654          0.092083                    8476\n",
      "        99            0.034458                       831          0.129198                   11442\n",
      "       100            0.053896                      3156          0.546755                   38930\n"
     ]
    }
   ],
   "execution_count": 75
  },
  {
   "cell_type": "code",
   "id": "7512177baff08202",
   "metadata": {
    "ExecuteTime": {
     "end_time": "2024-11-30T23:27:54.557707Z",
     "start_time": "2024-11-30T23:27:54.555702Z"
    }
   },
   "source": [
    "display_results(summary)"
   ],
   "outputs": [
    {
     "name": "stdout",
     "output_type": "stream",
     "text": [
      "+--------------------+------------------------------+------------------------------+--------------------------+\n",
      "| Heuristic          |   Avg. Computation Time (ms) |   Std. Computation Time (ms) |   Avg. Memory Usage (KB) |\n",
      "+====================+==============================+==============================+==========================+\n",
      "| Manhattan Distance |                      15.4403 |                      20.0849 |                   1.2412 |\n",
      "+--------------------+------------------------------+------------------------------+--------------------------+\n",
      "| Hamming Distance   |                     220.853  |                     315.282  |                  15.3125 |\n",
      "+--------------------+------------------------------+------------------------------+--------------------------+\n"
     ]
    }
   ],
   "execution_count": 76
  },
  {
   "cell_type": "code",
   "id": "6bf9e9d36543ed4c",
   "metadata": {
    "ExecuteTime": {
     "end_time": "2024-11-30T23:27:54.676079Z",
     "start_time": "2024-11-30T23:27:54.567578Z"
    }
   },
   "source": [
    "visualize_results(summary)"
   ],
   "outputs": [
    {
     "data": {
      "text/plain": [
       "<Figure size 1200x600 with 2 Axes>"
      ],
      "image/png": "[encoded data removed]"
     },
     "metadata": {},
     "output_type": "display_data"
    }
   ],
   "execution_count": 77
  }
 ],
 "metadata": {
  "kernelspec": {
   "display_name": "Python 3 (ipykernel)",
   "language": "python",
   "name": "python3"
  },
  "language_info": {
   "codemirror_mode": {
    "name": "ipython",
    "version": 3
   },
   "file_extension": ".py",
   "mimetype": "text/x-python",
   "name": "python",
   "nbconvert_exporter": "python",
   "pygments_lexer": "ipython3",
   "version": "3.12.0"
  }
 },
 "nbformat": 4,
 "nbformat_minor": 5
}
